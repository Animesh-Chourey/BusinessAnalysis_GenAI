{
  "nbformat": 4,
  "nbformat_minor": 0,
  "metadata": {
    "colab": {
      "provenance": []
    },
    "kernelspec": {
      "name": "python3",
      "display_name": "Python 3"
    },
    "language_info": {
      "name": "python"
    }
  },
  "cells": [
    {
      "cell_type": "markdown",
      "source": [
        "# Environemt Setup"
      ],
      "metadata": {
        "id": "tRK3HXpMKc0Y"
      }
    },
    {
      "cell_type": "code",
      "execution_count": 1,
      "metadata": {
        "id": "6Abe7besJtCw",
        "colab": {
          "base_uri": "https://localhost:8080/"
        },
        "outputId": "c1e0410f-f342-4b24-cc84-7f56acd224f8"
      },
      "outputs": [
        {
          "output_type": "stream",
          "name": "stdout",
          "text": [
            "Collecting openai==1.7.2\n",
            "  Downloading openai-1.7.2-py3-none-any.whl.metadata (17 kB)\n",
            "Collecting python-dotenv\n",
            "  Downloading python_dotenv-1.0.1-py3-none-any.whl.metadata (23 kB)\n",
            "Requirement already satisfied: anyio<5,>=3.5.0 in /usr/local/lib/python3.10/dist-packages (from openai==1.7.2) (3.7.1)\n",
            "Requirement already satisfied: distro<2,>=1.7.0 in /usr/lib/python3/dist-packages (from openai==1.7.2) (1.7.0)\n",
            "Collecting httpx<1,>=0.23.0 (from openai==1.7.2)\n",
            "  Downloading httpx-0.27.0-py3-none-any.whl.metadata (7.2 kB)\n",
            "Requirement already satisfied: pydantic<3,>=1.9.0 in /usr/local/lib/python3.10/dist-packages (from openai==1.7.2) (2.8.2)\n",
            "Requirement already satisfied: sniffio in /usr/local/lib/python3.10/dist-packages (from openai==1.7.2) (1.3.1)\n",
            "Requirement already satisfied: tqdm>4 in /usr/local/lib/python3.10/dist-packages (from openai==1.7.2) (4.66.4)\n",
            "Requirement already satisfied: typing-extensions<5,>=4.7 in /usr/local/lib/python3.10/dist-packages (from openai==1.7.2) (4.12.2)\n",
            "Requirement already satisfied: idna>=2.8 in /usr/local/lib/python3.10/dist-packages (from anyio<5,>=3.5.0->openai==1.7.2) (3.7)\n",
            "Requirement already satisfied: exceptiongroup in /usr/local/lib/python3.10/dist-packages (from anyio<5,>=3.5.0->openai==1.7.2) (1.2.2)\n",
            "Requirement already satisfied: certifi in /usr/local/lib/python3.10/dist-packages (from httpx<1,>=0.23.0->openai==1.7.2) (2024.7.4)\n",
            "Collecting httpcore==1.* (from httpx<1,>=0.23.0->openai==1.7.2)\n",
            "  Downloading httpcore-1.0.5-py3-none-any.whl.metadata (20 kB)\n",
            "Collecting h11<0.15,>=0.13 (from httpcore==1.*->httpx<1,>=0.23.0->openai==1.7.2)\n",
            "  Downloading h11-0.14.0-py3-none-any.whl.metadata (8.2 kB)\n",
            "Requirement already satisfied: annotated-types>=0.4.0 in /usr/local/lib/python3.10/dist-packages (from pydantic<3,>=1.9.0->openai==1.7.2) (0.7.0)\n",
            "Requirement already satisfied: pydantic-core==2.20.1 in /usr/local/lib/python3.10/dist-packages (from pydantic<3,>=1.9.0->openai==1.7.2) (2.20.1)\n",
            "Downloading openai-1.7.2-py3-none-any.whl (212 kB)\n",
            "\u001b[2K   \u001b[90m━━━━━━━━━━━━━━━━━━━━━━━━━━━━━━━━━━━━━━━━\u001b[0m \u001b[32m212.1/212.1 kB\u001b[0m \u001b[31m6.3 MB/s\u001b[0m eta \u001b[36m0:00:00\u001b[0m\n",
            "\u001b[?25hDownloading python_dotenv-1.0.1-py3-none-any.whl (19 kB)\n",
            "Downloading httpx-0.27.0-py3-none-any.whl (75 kB)\n",
            "\u001b[2K   \u001b[90m━━━━━━━━━━━━━━━━━━━━━━━━━━━━━━━━━━━━━━━━\u001b[0m \u001b[32m75.6/75.6 kB\u001b[0m \u001b[31m3.7 MB/s\u001b[0m eta \u001b[36m0:00:00\u001b[0m\n",
            "\u001b[?25hDownloading httpcore-1.0.5-py3-none-any.whl (77 kB)\n",
            "\u001b[2K   \u001b[90m━━━━━━━━━━━━━━━━━━━━━━━━━━━━━━━━━━━━━━━━\u001b[0m \u001b[32m77.9/77.9 kB\u001b[0m \u001b[31m4.1 MB/s\u001b[0m eta \u001b[36m0:00:00\u001b[0m\n",
            "\u001b[?25hDownloading h11-0.14.0-py3-none-any.whl (58 kB)\n",
            "\u001b[2K   \u001b[90m━━━━━━━━━━━━━━━━━━━━━━━━━━━━━━━━━━━━━━━━\u001b[0m \u001b[32m58.3/58.3 kB\u001b[0m \u001b[31m3.2 MB/s\u001b[0m eta \u001b[36m0:00:00\u001b[0m\n",
            "\u001b[?25hInstalling collected packages: python-dotenv, h11, httpcore, httpx, openai\n",
            "Successfully installed h11-0.14.0 httpcore-1.0.5 httpx-0.27.0 openai-1.7.2 python-dotenv-1.0.1\n"
          ]
        }
      ],
      "source": [
        "!pip install openai==1.7.2 python-dotenv"
      ]
    },
    {
      "cell_type": "markdown",
      "source": [
        "Import Modules and libraries"
      ],
      "metadata": {
        "id": "g1CTmwjHLECw"
      }
    },
    {
      "cell_type": "code",
      "source": [
        "import json\n",
        "import os, time\n",
        "import pandas as pd\n",
        "import matplotlib.pyplot as plt\n",
        "\n",
        "from openai import OpenAI\n",
        "# To load environment variables from .env files\n",
        "from dotenv import load_dotenv\n",
        "\n",
        "print(\"Modules are imported.\")"
      ],
      "metadata": {
        "id": "PexvRtEjLJSq",
        "colab": {
          "base_uri": "https://localhost:8080/"
        },
        "outputId": "2922b4ae-a4cc-4411-b4b4-d274ea0e9bef"
      },
      "execution_count": 2,
      "outputs": [
        {
          "output_type": "stream",
          "name": "stdout",
          "text": [
            "Modules are imported.\n"
          ]
        }
      ]
    },
    {
      "cell_type": "markdown",
      "source": [
        "Set-up the OpenAI API:\n",
        "\n",
        "\n",
        "*   Prepare a .env file to store the OpenAI:\n",
        "      1. API Key\n",
        "      2. ORG ID\n",
        "*   Upload the .env file to colab environment\n",
        "\n",
        "*   Load the Key and ID\n",
        "\n",
        "\n",
        "\n"
      ],
      "metadata": {
        "id": "90WLY2g0Mcfw"
      }
    },
    {
      "cell_type": "code",
      "source": [
        "load_dotenv(\"apikey.env.txt\")\n",
        "\n",
        "# Get the environment variables\n",
        "APIKEY = os.getenv(\"APIKEY\")\n",
        "ORGID = os.getenv(\"ORGID\")"
      ],
      "metadata": {
        "id": "c4156e9vNvYC"
      },
      "execution_count": 3,
      "outputs": []
    },
    {
      "cell_type": "code",
      "source": [
        "# Create the Client\n",
        "\n",
        "client = OpenAI(\n",
        "    api_key = APIKEY,\n",
        "    organization = ORGID\n",
        ")\n",
        "\n",
        "client"
      ],
      "metadata": {
        "id": "Vi7_837mOnx5",
        "colab": {
          "base_uri": "https://localhost:8080/"
        },
        "outputId": "4cb770be-6dae-4606-e7cc-a055b1daff4a"
      },
      "execution_count": 4,
      "outputs": [
        {
          "output_type": "execute_result",
          "data": {
            "text/plain": [
              "<openai.OpenAI at 0x781e196d8370>"
            ]
          },
          "metadata": {},
          "execution_count": 4
        }
      ]
    },
    {
      "cell_type": "markdown",
      "source": [
        "# Preparing the training data"
      ],
      "metadata": {
        "id": "xbY1GGBXPLzp"
      }
    },
    {
      "cell_type": "markdown",
      "source": [
        "Upload the Costomer_Complaint.csv file to the colab environment"
      ],
      "metadata": {
        "id": "8jC15jwPPufX"
      }
    },
    {
      "cell_type": "code",
      "source": [
        "training_data = pd.read_csv('Customer Complaints.csv')\n",
        "training_data"
      ],
      "metadata": {
        "id": "Zs4He6q_O9KN",
        "colab": {
          "base_uri": "https://localhost:8080/",
          "height": 423
        },
        "outputId": "8620d289-0970-4c7e-b2ba-bc25a5375cd1"
      },
      "execution_count": 5,
      "outputs": [
        {
          "output_type": "execute_result",
          "data": {
            "text/plain": [
              "                                           Complaints  \\\n",
              "0    Unreliable internet! Sick of constant outages...   \n",
              "1    TV signal keeps dropping during crucial momen...   \n",
              "2    Phone line always crackling! Can't hear a thi...   \n",
              "3    Ridiculous prices for such terrible service! ...   \n",
              "4    Internet speed slower than a snail! Can't str...   \n",
              "..                                                ...   \n",
              "62  Poor call quality during international calls! ...   \n",
              "63  Incorrect charges on my bill every month! Unre...   \n",
              "64  This service is terrible! Can't believe I'm pa...   \n",
              "65  This product is a complete waste of money! Dis...   \n",
              "66                     I am utterly fed up with this!   \n",
              "\n",
              "                                              Details  \n",
              "0   {\"Topic\": \"Internet\", \"Problem\": \"Unreliable s...  \n",
              "1   {\"Topic\": \"TV\", \"Problem\": \"Signal dropout\", \"...  \n",
              "2   {\"Topic\": \"Phone\", \"Problem\": \"Crackling line\"...  \n",
              "3   {\"Topic\": \"Billing\", \"Problem\": \"Overcharged\",...  \n",
              "4   {\"Topic\": \"Internet\", \"Problem\": \"Slow speed\",...  \n",
              "..                                                ...  \n",
              "62  {\"Topic\": \"Phone\", \"Problem\": \"Poor call quali...  \n",
              "63  {\"Topic\": \"Billing\", \"Problem\": \"Incorrect cha...  \n",
              "64  {\"Topic\": \"PulseNet General\", \"Problem\": \"Gene...  \n",
              "65  {\"Topic\": \"PulseNet General\", \"Problem\": \"Gene...  \n",
              "66  {\"Topic\": \"PulseNet General\", \"Problem\": \"Gene...  \n",
              "\n",
              "[67 rows x 2 columns]"
            ],
            "text/html": [
              "\n",
              "  <div id=\"df-6f874285-2351-4267-b72b-55b73b4e023f\" class=\"colab-df-container\">\n",
              "    <div>\n",
              "<style scoped>\n",
              "    .dataframe tbody tr th:only-of-type {\n",
              "        vertical-align: middle;\n",
              "    }\n",
              "\n",
              "    .dataframe tbody tr th {\n",
              "        vertical-align: top;\n",
              "    }\n",
              "\n",
              "    .dataframe thead th {\n",
              "        text-align: right;\n",
              "    }\n",
              "</style>\n",
              "<table border=\"1\" class=\"dataframe\">\n",
              "  <thead>\n",
              "    <tr style=\"text-align: right;\">\n",
              "      <th></th>\n",
              "      <th>Complaints</th>\n",
              "      <th>Details</th>\n",
              "    </tr>\n",
              "  </thead>\n",
              "  <tbody>\n",
              "    <tr>\n",
              "      <th>0</th>\n",
              "      <td>Unreliable internet! Sick of constant outages...</td>\n",
              "      <td>{\"Topic\": \"Internet\", \"Problem\": \"Unreliable s...</td>\n",
              "    </tr>\n",
              "    <tr>\n",
              "      <th>1</th>\n",
              "      <td>TV signal keeps dropping during crucial momen...</td>\n",
              "      <td>{\"Topic\": \"TV\", \"Problem\": \"Signal dropout\", \"...</td>\n",
              "    </tr>\n",
              "    <tr>\n",
              "      <th>2</th>\n",
              "      <td>Phone line always crackling! Can't hear a thi...</td>\n",
              "      <td>{\"Topic\": \"Phone\", \"Problem\": \"Crackling line\"...</td>\n",
              "    </tr>\n",
              "    <tr>\n",
              "      <th>3</th>\n",
              "      <td>Ridiculous prices for such terrible service! ...</td>\n",
              "      <td>{\"Topic\": \"Billing\", \"Problem\": \"Overcharged\",...</td>\n",
              "    </tr>\n",
              "    <tr>\n",
              "      <th>4</th>\n",
              "      <td>Internet speed slower than a snail! Can't str...</td>\n",
              "      <td>{\"Topic\": \"Internet\", \"Problem\": \"Slow speed\",...</td>\n",
              "    </tr>\n",
              "    <tr>\n",
              "      <th>...</th>\n",
              "      <td>...</td>\n",
              "      <td>...</td>\n",
              "    </tr>\n",
              "    <tr>\n",
              "      <th>62</th>\n",
              "      <td>Poor call quality during international calls! ...</td>\n",
              "      <td>{\"Topic\": \"Phone\", \"Problem\": \"Poor call quali...</td>\n",
              "    </tr>\n",
              "    <tr>\n",
              "      <th>63</th>\n",
              "      <td>Incorrect charges on my bill every month! Unre...</td>\n",
              "      <td>{\"Topic\": \"Billing\", \"Problem\": \"Incorrect cha...</td>\n",
              "    </tr>\n",
              "    <tr>\n",
              "      <th>64</th>\n",
              "      <td>This service is terrible! Can't believe I'm pa...</td>\n",
              "      <td>{\"Topic\": \"PulseNet General\", \"Problem\": \"Gene...</td>\n",
              "    </tr>\n",
              "    <tr>\n",
              "      <th>65</th>\n",
              "      <td>This product is a complete waste of money! Dis...</td>\n",
              "      <td>{\"Topic\": \"PulseNet General\", \"Problem\": \"Gene...</td>\n",
              "    </tr>\n",
              "    <tr>\n",
              "      <th>66</th>\n",
              "      <td>I am utterly fed up with this!</td>\n",
              "      <td>{\"Topic\": \"PulseNet General\", \"Problem\": \"Gene...</td>\n",
              "    </tr>\n",
              "  </tbody>\n",
              "</table>\n",
              "<p>67 rows × 2 columns</p>\n",
              "</div>\n",
              "    <div class=\"colab-df-buttons\">\n",
              "\n",
              "  <div class=\"colab-df-container\">\n",
              "    <button class=\"colab-df-convert\" onclick=\"convertToInteractive('df-6f874285-2351-4267-b72b-55b73b4e023f')\"\n",
              "            title=\"Convert this dataframe to an interactive table.\"\n",
              "            style=\"display:none;\">\n",
              "\n",
              "  <svg xmlns=\"http://www.w3.org/2000/svg\" height=\"24px\" viewBox=\"0 -960 960 960\">\n",
              "    <path d=\"M120-120v-720h720v720H120Zm60-500h600v-160H180v160Zm220 220h160v-160H400v160Zm0 220h160v-160H400v160ZM180-400h160v-160H180v160Zm440 0h160v-160H620v160ZM180-180h160v-160H180v160Zm440 0h160v-160H620v160Z\"/>\n",
              "  </svg>\n",
              "    </button>\n",
              "\n",
              "  <style>\n",
              "    .colab-df-container {\n",
              "      display:flex;\n",
              "      gap: 12px;\n",
              "    }\n",
              "\n",
              "    .colab-df-convert {\n",
              "      background-color: #E8F0FE;\n",
              "      border: none;\n",
              "      border-radius: 50%;\n",
              "      cursor: pointer;\n",
              "      display: none;\n",
              "      fill: #1967D2;\n",
              "      height: 32px;\n",
              "      padding: 0 0 0 0;\n",
              "      width: 32px;\n",
              "    }\n",
              "\n",
              "    .colab-df-convert:hover {\n",
              "      background-color: #E2EBFA;\n",
              "      box-shadow: 0px 1px 2px rgba(60, 64, 67, 0.3), 0px 1px 3px 1px rgba(60, 64, 67, 0.15);\n",
              "      fill: #174EA6;\n",
              "    }\n",
              "\n",
              "    .colab-df-buttons div {\n",
              "      margin-bottom: 4px;\n",
              "    }\n",
              "\n",
              "    [theme=dark] .colab-df-convert {\n",
              "      background-color: #3B4455;\n",
              "      fill: #D2E3FC;\n",
              "    }\n",
              "\n",
              "    [theme=dark] .colab-df-convert:hover {\n",
              "      background-color: #434B5C;\n",
              "      box-shadow: 0px 1px 3px 1px rgba(0, 0, 0, 0.15);\n",
              "      filter: drop-shadow(0px 1px 2px rgba(0, 0, 0, 0.3));\n",
              "      fill: #FFFFFF;\n",
              "    }\n",
              "  </style>\n",
              "\n",
              "    <script>\n",
              "      const buttonEl =\n",
              "        document.querySelector('#df-6f874285-2351-4267-b72b-55b73b4e023f button.colab-df-convert');\n",
              "      buttonEl.style.display =\n",
              "        google.colab.kernel.accessAllowed ? 'block' : 'none';\n",
              "\n",
              "      async function convertToInteractive(key) {\n",
              "        const element = document.querySelector('#df-6f874285-2351-4267-b72b-55b73b4e023f');\n",
              "        const dataTable =\n",
              "          await google.colab.kernel.invokeFunction('convertToInteractive',\n",
              "                                                    [key], {});\n",
              "        if (!dataTable) return;\n",
              "\n",
              "        const docLinkHtml = 'Like what you see? Visit the ' +\n",
              "          '<a target=\"_blank\" href=https://colab.research.google.com/notebooks/data_table.ipynb>data table notebook</a>'\n",
              "          + ' to learn more about interactive tables.';\n",
              "        element.innerHTML = '';\n",
              "        dataTable['output_type'] = 'display_data';\n",
              "        await google.colab.output.renderOutput(dataTable, element);\n",
              "        const docLink = document.createElement('div');\n",
              "        docLink.innerHTML = docLinkHtml;\n",
              "        element.appendChild(docLink);\n",
              "      }\n",
              "    </script>\n",
              "  </div>\n",
              "\n",
              "\n",
              "<div id=\"df-78512909-13d5-46c7-a076-4615f73688fd\">\n",
              "  <button class=\"colab-df-quickchart\" onclick=\"quickchart('df-78512909-13d5-46c7-a076-4615f73688fd')\"\n",
              "            title=\"Suggest charts\"\n",
              "            style=\"display:none;\">\n",
              "\n",
              "<svg xmlns=\"http://www.w3.org/2000/svg\" height=\"24px\"viewBox=\"0 0 24 24\"\n",
              "     width=\"24px\">\n",
              "    <g>\n",
              "        <path d=\"M19 3H5c-1.1 0-2 .9-2 2v14c0 1.1.9 2 2 2h14c1.1 0 2-.9 2-2V5c0-1.1-.9-2-2-2zM9 17H7v-7h2v7zm4 0h-2V7h2v10zm4 0h-2v-4h2v4z\"/>\n",
              "    </g>\n",
              "</svg>\n",
              "  </button>\n",
              "\n",
              "<style>\n",
              "  .colab-df-quickchart {\n",
              "      --bg-color: #E8F0FE;\n",
              "      --fill-color: #1967D2;\n",
              "      --hover-bg-color: #E2EBFA;\n",
              "      --hover-fill-color: #174EA6;\n",
              "      --disabled-fill-color: #AAA;\n",
              "      --disabled-bg-color: #DDD;\n",
              "  }\n",
              "\n",
              "  [theme=dark] .colab-df-quickchart {\n",
              "      --bg-color: #3B4455;\n",
              "      --fill-color: #D2E3FC;\n",
              "      --hover-bg-color: #434B5C;\n",
              "      --hover-fill-color: #FFFFFF;\n",
              "      --disabled-bg-color: #3B4455;\n",
              "      --disabled-fill-color: #666;\n",
              "  }\n",
              "\n",
              "  .colab-df-quickchart {\n",
              "    background-color: var(--bg-color);\n",
              "    border: none;\n",
              "    border-radius: 50%;\n",
              "    cursor: pointer;\n",
              "    display: none;\n",
              "    fill: var(--fill-color);\n",
              "    height: 32px;\n",
              "    padding: 0;\n",
              "    width: 32px;\n",
              "  }\n",
              "\n",
              "  .colab-df-quickchart:hover {\n",
              "    background-color: var(--hover-bg-color);\n",
              "    box-shadow: 0 1px 2px rgba(60, 64, 67, 0.3), 0 1px 3px 1px rgba(60, 64, 67, 0.15);\n",
              "    fill: var(--button-hover-fill-color);\n",
              "  }\n",
              "\n",
              "  .colab-df-quickchart-complete:disabled,\n",
              "  .colab-df-quickchart-complete:disabled:hover {\n",
              "    background-color: var(--disabled-bg-color);\n",
              "    fill: var(--disabled-fill-color);\n",
              "    box-shadow: none;\n",
              "  }\n",
              "\n",
              "  .colab-df-spinner {\n",
              "    border: 2px solid var(--fill-color);\n",
              "    border-color: transparent;\n",
              "    border-bottom-color: var(--fill-color);\n",
              "    animation:\n",
              "      spin 1s steps(1) infinite;\n",
              "  }\n",
              "\n",
              "  @keyframes spin {\n",
              "    0% {\n",
              "      border-color: transparent;\n",
              "      border-bottom-color: var(--fill-color);\n",
              "      border-left-color: var(--fill-color);\n",
              "    }\n",
              "    20% {\n",
              "      border-color: transparent;\n",
              "      border-left-color: var(--fill-color);\n",
              "      border-top-color: var(--fill-color);\n",
              "    }\n",
              "    30% {\n",
              "      border-color: transparent;\n",
              "      border-left-color: var(--fill-color);\n",
              "      border-top-color: var(--fill-color);\n",
              "      border-right-color: var(--fill-color);\n",
              "    }\n",
              "    40% {\n",
              "      border-color: transparent;\n",
              "      border-right-color: var(--fill-color);\n",
              "      border-top-color: var(--fill-color);\n",
              "    }\n",
              "    60% {\n",
              "      border-color: transparent;\n",
              "      border-right-color: var(--fill-color);\n",
              "    }\n",
              "    80% {\n",
              "      border-color: transparent;\n",
              "      border-right-color: var(--fill-color);\n",
              "      border-bottom-color: var(--fill-color);\n",
              "    }\n",
              "    90% {\n",
              "      border-color: transparent;\n",
              "      border-bottom-color: var(--fill-color);\n",
              "    }\n",
              "  }\n",
              "</style>\n",
              "\n",
              "  <script>\n",
              "    async function quickchart(key) {\n",
              "      const quickchartButtonEl =\n",
              "        document.querySelector('#' + key + ' button');\n",
              "      quickchartButtonEl.disabled = true;  // To prevent multiple clicks.\n",
              "      quickchartButtonEl.classList.add('colab-df-spinner');\n",
              "      try {\n",
              "        const charts = await google.colab.kernel.invokeFunction(\n",
              "            'suggestCharts', [key], {});\n",
              "      } catch (error) {\n",
              "        console.error('Error during call to suggestCharts:', error);\n",
              "      }\n",
              "      quickchartButtonEl.classList.remove('colab-df-spinner');\n",
              "      quickchartButtonEl.classList.add('colab-df-quickchart-complete');\n",
              "    }\n",
              "    (() => {\n",
              "      let quickchartButtonEl =\n",
              "        document.querySelector('#df-78512909-13d5-46c7-a076-4615f73688fd button');\n",
              "      quickchartButtonEl.style.display =\n",
              "        google.colab.kernel.accessAllowed ? 'block' : 'none';\n",
              "    })();\n",
              "  </script>\n",
              "</div>\n",
              "\n",
              "  <div id=\"id_3258f803-e6fb-4f01-a7e6-538d89a8e1c6\">\n",
              "    <style>\n",
              "      .colab-df-generate {\n",
              "        background-color: #E8F0FE;\n",
              "        border: none;\n",
              "        border-radius: 50%;\n",
              "        cursor: pointer;\n",
              "        display: none;\n",
              "        fill: #1967D2;\n",
              "        height: 32px;\n",
              "        padding: 0 0 0 0;\n",
              "        width: 32px;\n",
              "      }\n",
              "\n",
              "      .colab-df-generate:hover {\n",
              "        background-color: #E2EBFA;\n",
              "        box-shadow: 0px 1px 2px rgba(60, 64, 67, 0.3), 0px 1px 3px 1px rgba(60, 64, 67, 0.15);\n",
              "        fill: #174EA6;\n",
              "      }\n",
              "\n",
              "      [theme=dark] .colab-df-generate {\n",
              "        background-color: #3B4455;\n",
              "        fill: #D2E3FC;\n",
              "      }\n",
              "\n",
              "      [theme=dark] .colab-df-generate:hover {\n",
              "        background-color: #434B5C;\n",
              "        box-shadow: 0px 1px 3px 1px rgba(0, 0, 0, 0.15);\n",
              "        filter: drop-shadow(0px 1px 2px rgba(0, 0, 0, 0.3));\n",
              "        fill: #FFFFFF;\n",
              "      }\n",
              "    </style>\n",
              "    <button class=\"colab-df-generate\" onclick=\"generateWithVariable('training_data')\"\n",
              "            title=\"Generate code using this dataframe.\"\n",
              "            style=\"display:none;\">\n",
              "\n",
              "  <svg xmlns=\"http://www.w3.org/2000/svg\" height=\"24px\"viewBox=\"0 0 24 24\"\n",
              "       width=\"24px\">\n",
              "    <path d=\"M7,19H8.4L18.45,9,17,7.55,7,17.6ZM5,21V16.75L18.45,3.32a2,2,0,0,1,2.83,0l1.4,1.43a1.91,1.91,0,0,1,.58,1.4,1.91,1.91,0,0,1-.58,1.4L9.25,21ZM18.45,9,17,7.55Zm-12,3A5.31,5.31,0,0,0,4.9,8.1,5.31,5.31,0,0,0,1,6.5,5.31,5.31,0,0,0,4.9,4.9,5.31,5.31,0,0,0,6.5,1,5.31,5.31,0,0,0,8.1,4.9,5.31,5.31,0,0,0,12,6.5,5.46,5.46,0,0,0,6.5,12Z\"/>\n",
              "  </svg>\n",
              "    </button>\n",
              "    <script>\n",
              "      (() => {\n",
              "      const buttonEl =\n",
              "        document.querySelector('#id_3258f803-e6fb-4f01-a7e6-538d89a8e1c6 button.colab-df-generate');\n",
              "      buttonEl.style.display =\n",
              "        google.colab.kernel.accessAllowed ? 'block' : 'none';\n",
              "\n",
              "      buttonEl.onclick = () => {\n",
              "        google.colab.notebook.generateWithVariable('training_data');\n",
              "      }\n",
              "      })();\n",
              "    </script>\n",
              "  </div>\n",
              "\n",
              "    </div>\n",
              "  </div>\n"
            ],
            "application/vnd.google.colaboratory.intrinsic+json": {
              "type": "dataframe",
              "variable_name": "training_data",
              "summary": "{\n  \"name\": \"training_data\",\n  \"rows\": 67,\n  \"fields\": [\n    {\n      \"column\": \"Complaints\",\n      \"properties\": {\n        \"dtype\": \"string\",\n        \"num_unique_values\": 67,\n        \"samples\": [\n          \" Phone plan changed without consent! Unacceptable manipulation. Furious!\",\n          \" Charged for services not used! Unacceptable billing. Furious!\",\n          \" Internet speed slower than a snail! Can't stream or download anything. Frustrating!\"\n        ],\n        \"semantic_type\": \"\",\n        \"description\": \"\"\n      }\n    },\n    {\n      \"column\": \"Details\",\n      \"properties\": {\n        \"dtype\": \"string\",\n        \"num_unique_values\": 55,\n        \"samples\": [\n          \"{\\\"Topic\\\": \\\"Internet\\\", \\\"Problem\\\": \\\"Throttling\\\", \\\"Customer_Dissatisfaction_Index\\\": 85}\",\n          \"{\\\"Topic\\\": \\\"TV\\\", \\\"Problem\\\": \\\"Channels freezing\\\", \\\"Customer_Dissatisfaction_Index\\\": 85}\",\n          \"{\\\"Topic\\\": \\\"TV\\\", \\\"Problem\\\": \\\"Remote malfunction\\\", \\\"Customer_Dissatisfaction_Index\\\": 80}\"\n        ],\n        \"semantic_type\": \"\",\n        \"description\": \"\"\n      }\n    }\n  ]\n}"
            }
          },
          "metadata": {},
          "execution_count": 5
        }
      ]
    },
    {
      "cell_type": "markdown",
      "source": [
        "Prepare the training data for the fine-tuning process. Each data row needs to be converted into a JSON object which is supported by OpenAI format.\n",
        "\n",
        "The data will be in the following format:\n",
        "\n",
        "<pre>\n",
        "<code>\n",
        "{\n",
        "  <span style=\"color: blue;\">\"messages\"</span>: [\n",
        "    {\n",
        "      <span style=\"color: blue;\">\"role\"</span>: <span style=\"color: red;\">\"system\"</span>,\n",
        "      <span style=\"color: blue;\">\"content\"</span>: \"<span style=\"color: green;\">Here we provide the context about the user's prompt.\n",
        "                  (info about instructions or details regarding the conversation)</span>\"\n",
        "    },\n",
        "    {\n",
        "      <span style=\"color: blue;\">\"role\"</span>: <span style=\"color: red;\">\"user\"</span>,\n",
        "      <span style=\"color: blue;\">\"content\"</span>: \"<span style=\"color: green;\">The user's prompt i.e. going to be user's complaint</span>\"\n",
        "    },\n",
        "    {\n",
        "      <span style=\"color: blue;\">\"role\"</span>: <span style=\"color: red;\">\"assistant\"</span>,\n",
        "      <span style=\"color: blue;\">\"content\"</span>: \"<span style=\"color: green;\">Details extracted by the assistant from the corresponding complaint\n",
        "                  by the user.</span>\"\n",
        "    }\n",
        "  ]\n",
        "}\n",
        "</code>\n",
        "</pre>"
      ],
      "metadata": {
        "id": "w-2PlvFRSGEB"
      }
    },
    {
      "cell_type": "code",
      "source": [
        "def save_as_json(row):\n",
        "\n",
        "  system_content = \"\"\"\n",
        "      Extract and return the following complaint in json (dict) format:\n",
        "      - Topic: The product/department that the customer has a complaint about.\n",
        "      - Problem: A two to three-word description of what exactly the problem is.\n",
        "      - Customer_Dissatisfaction_Index: number between 0 and 100 indicating\n",
        "                                        anger from customer about the problem.\n",
        "  \"\"\"\n",
        "\n",
        "  formatted_data = {\n",
        "        \"messages\": [\n",
        "            {\"role\": \"system\", \"content\": system_content},\n",
        "            {\"role\": \"user\", \"content\": row.Complaints},\n",
        "            {\"role\": \"assistant\", \"content\": row.Details}\n",
        "        ]\n",
        "      }\n",
        "\n",
        "  # Append every row to the json file\n",
        "  with open(\"training_data.json\", \"a\") as json_file:\n",
        "        json.dump(formatted_data, json_file)\n",
        "        json_file.write(\"\\n\")"
      ],
      "metadata": {
        "id": "XTnxfzLHRWbm"
      },
      "execution_count": 6,
      "outputs": []
    },
    {
      "cell_type": "markdown",
      "source": [
        "Pass the data to the method to convert dataframe into json format."
      ],
      "metadata": {
        "id": "-ZIQeumpfP3A"
      }
    },
    {
      "cell_type": "code",
      "source": [
        "# Iterate through every row one by one and pass it to the function \"save_as_json\"\n",
        "for index, row in training_data.iterrows():\n",
        "  save_as_json(row)"
      ],
      "metadata": {
        "id": "0Uj63oZifKEE"
      },
      "execution_count": 7,
      "outputs": []
    },
    {
      "cell_type": "markdown",
      "source": [
        "# Fine-tune the model GPT 3.5"
      ],
      "metadata": {
        "id": "9_uGsw2Gfgf3"
      }
    },
    {
      "cell_type": "code",
      "source": [
        "# Import the json file for the training data for fine tuning\n",
        "\n",
        "data_file = client.files.create(\n",
        "    file = open('training_data.json', 'rb'),\n",
        "    purpose = 'fine-tune',\n",
        ")\n",
        "\n",
        "data_file"
      ],
      "metadata": {
        "id": "9xo76x0_foWy",
        "colab": {
          "base_uri": "https://localhost:8080/"
        },
        "outputId": "3db60de5-dfcd-4791-9a8e-08d65b8aadfe"
      },
      "execution_count": 8,
      "outputs": [
        {
          "output_type": "execute_result",
          "data": {
            "text/plain": [
              "FileObject(id='file-lqWcHxgi8Xav4yDCbKsdb55J', bytes=45650, created_at=1722769383, filename='training_data.json', object='file', purpose='fine-tune', status='processed', status_details=None)"
            ]
          },
          "metadata": {},
          "execution_count": 8
        }
      ]
    },
    {
      "cell_type": "markdown",
      "source": [
        "Creating a fine-tuning job"
      ],
      "metadata": {
        "id": "zVxS6c9Vga4z"
      }
    },
    {
      "cell_type": "code",
      "source": [
        "# Training file object is ready, we can start with fine tuning the LLM\n",
        "\n",
        "fine_tuning_job = client.fine_tuning.jobs.create(\n",
        "    training_file = data_file.id,    # Our training file\n",
        "    model = 'gpt-3.5-turbo',         # Model we want to fine tune\n",
        "    hyperparameters = {\n",
        "        \"n_epochs\" : 'auto'\n",
        "    }\n",
        ")\n",
        "\n",
        "fine_tuning_job"
      ],
      "metadata": {
        "id": "16LTm5sVgdCy",
        "colab": {
          "base_uri": "https://localhost:8080/"
        },
        "outputId": "310f4c76-294d-47bf-a916-e6d61c28e75a"
      },
      "execution_count": 9,
      "outputs": [
        {
          "output_type": "execute_result",
          "data": {
            "text/plain": [
              "FineTuningJob(id='ftjob-yXdfDiVYEK9n0pQKGoogXdWx', created_at=1722769392, error=Error(code=None, message=None, param=None), fine_tuned_model=None, finished_at=None, hyperparameters=Hyperparameters(n_epochs='auto', batch_size='auto', learning_rate_multiplier='auto'), model='gpt-3.5-turbo-0125', object='fine_tuning.job', organization_id='org-AlEzKDQJ2igZgsjjUpU2cEi2', result_files=[], status='validating_files', trained_tokens=None, training_file='file-lqWcHxgi8Xav4yDCbKsdb55J', validation_file=None, user_provided_suffix=None, seed=1235186436, estimated_finish=None, integrations=[])"
            ]
          },
          "metadata": {},
          "execution_count": 9
        }
      ]
    },
    {
      "cell_type": "markdown",
      "source": [
        "Retrieving the status of the fine-tuning job to ensure the task is finished."
      ],
      "metadata": {
        "id": "o-0WVJYCgkpF"
      }
    },
    {
      "cell_type": "code",
      "source": [
        "while True:\n",
        "\n",
        "  time.sleep(2)\n",
        "\n",
        "  # This method when getting the fine tuning job id returns the object again\n",
        "  # So we can use this retrieved object to check the status of the job\n",
        "  retrieved_job = client.fine_tuning.jobs.retrieve(fine_tuning_job.id)\n",
        "  status = retrieved_job.status\n",
        "  print(status)\n",
        "\n",
        "  if(status == 'succeeded'):\n",
        "    print(\"Fine Tuning Job Succeeeded\")\n",
        "    break"
      ],
      "metadata": {
        "id": "C3otHqsHiuaD",
        "colab": {
          "base_uri": "https://localhost:8080/"
        },
        "outputId": "6214ac5a-3a2b-43eb-d248-b0b2c6d4aabb"
      },
      "execution_count": 10,
      "outputs": [
        {
          "output_type": "stream",
          "name": "stdout",
          "text": [
            "validating_files\n",
            "validating_files\n",
            "validating_files\n",
            "validating_files\n",
            "validating_files\n",
            "validating_files\n",
            "validating_files\n",
            "validating_files\n",
            "running\n",
            "running\n",
            "running\n",
            "running\n",
            "running\n",
            "running\n",
            "running\n",
            "running\n",
            "running\n",
            "running\n",
            "running\n",
            "running\n",
            "running\n",
            "running\n",
            "running\n",
            "running\n",
            "running\n",
            "running\n",
            "running\n",
            "running\n",
            "running\n",
            "running\n",
            "running\n",
            "running\n",
            "running\n",
            "running\n",
            "running\n",
            "running\n",
            "running\n",
            "running\n",
            "running\n",
            "running\n",
            "running\n",
            "running\n",
            "running\n",
            "running\n",
            "running\n",
            "running\n",
            "running\n",
            "running\n",
            "running\n",
            "running\n",
            "running\n",
            "running\n",
            "running\n",
            "running\n",
            "running\n",
            "running\n",
            "running\n",
            "running\n",
            "running\n",
            "running\n",
            "running\n",
            "running\n",
            "running\n",
            "running\n",
            "running\n",
            "running\n",
            "running\n",
            "running\n",
            "running\n",
            "running\n",
            "running\n",
            "running\n",
            "running\n",
            "running\n",
            "running\n",
            "running\n",
            "running\n",
            "running\n",
            "running\n",
            "running\n",
            "running\n",
            "running\n",
            "running\n",
            "running\n",
            "running\n",
            "running\n",
            "running\n",
            "running\n",
            "running\n",
            "running\n",
            "running\n",
            "running\n",
            "running\n",
            "running\n",
            "running\n",
            "running\n",
            "running\n",
            "running\n",
            "running\n",
            "running\n",
            "running\n",
            "running\n",
            "running\n",
            "running\n",
            "running\n",
            "running\n",
            "running\n",
            "running\n",
            "running\n",
            "running\n",
            "running\n",
            "running\n",
            "running\n",
            "running\n",
            "running\n",
            "running\n",
            "running\n",
            "running\n",
            "running\n",
            "running\n",
            "running\n",
            "running\n",
            "running\n",
            "running\n",
            "running\n",
            "running\n",
            "running\n",
            "running\n",
            "running\n",
            "running\n",
            "running\n",
            "running\n",
            "running\n",
            "running\n",
            "running\n",
            "running\n",
            "running\n",
            "running\n",
            "running\n",
            "running\n",
            "running\n",
            "running\n",
            "running\n",
            "running\n",
            "running\n",
            "running\n",
            "running\n",
            "running\n",
            "running\n",
            "running\n",
            "running\n",
            "running\n",
            "running\n",
            "running\n",
            "running\n",
            "running\n",
            "running\n",
            "running\n",
            "running\n",
            "running\n",
            "running\n",
            "running\n",
            "running\n",
            "running\n",
            "running\n",
            "running\n",
            "running\n",
            "running\n",
            "running\n",
            "running\n",
            "running\n",
            "running\n",
            "running\n",
            "running\n",
            "running\n",
            "running\n",
            "running\n",
            "running\n",
            "running\n",
            "running\n",
            "running\n",
            "running\n",
            "running\n",
            "running\n",
            "running\n",
            "running\n",
            "running\n",
            "running\n",
            "running\n",
            "running\n",
            "running\n",
            "running\n",
            "running\n",
            "running\n",
            "running\n",
            "running\n",
            "running\n",
            "running\n",
            "running\n",
            "running\n",
            "running\n",
            "running\n",
            "running\n",
            "running\n",
            "running\n",
            "running\n",
            "running\n",
            "running\n",
            "running\n",
            "running\n",
            "running\n",
            "running\n",
            "running\n",
            "running\n",
            "running\n",
            "running\n",
            "running\n",
            "running\n",
            "running\n",
            "running\n",
            "running\n",
            "running\n",
            "running\n",
            "running\n",
            "succeeded\n",
            "Fine Tuning Job Succeeeded\n"
          ]
        }
      ]
    },
    {
      "cell_type": "markdown",
      "source": [
        "# Model Evaluation"
      ],
      "metadata": {
        "id": "x-IzqMnmiy6Z"
      }
    },
    {
      "cell_type": "markdown",
      "source": [
        "Observe the learning process of our fine-tuning job by retrieving the event messages.\n",
        "\n",
        "*   Events\n",
        "*   Messages\n",
        "*   Metrics\n",
        "\n",
        "\n",
        "\n"
      ],
      "metadata": {
        "id": "pRqrM3gVi_Hy"
      }
    },
    {
      "cell_type": "code",
      "source": [
        "# list_events method takes the id of the fine tuning job  and return the learning preocess in the form of points mentioned above.\n",
        "\n",
        "client.fine_tuning.jobs.list_events(fine_tuning_job_id = retrieved_job.id, limit = 100).data"
      ],
      "metadata": {
        "id": "_dKg8Hmni2Wy",
        "colab": {
          "base_uri": "https://localhost:8080/"
        },
        "outputId": "3ef1a1ba-ac9a-4c35-a289-c5d916823cc7"
      },
      "execution_count": 11,
      "outputs": [
        {
          "output_type": "execute_result",
          "data": {
            "text/plain": [
              "[FineTuningJobEvent(id='ftevent-LF85wabG41H7OTXW7g68ifz3', created_at=1722769892, level='info', message='The job has successfully completed', object='fine_tuning.job.event', data={}, type='message'),\n",
              " FineTuningJobEvent(id='ftevent-KLS9Z6T5oeOujnCOQq9BoC2n', created_at=1722769889, level='info', message='New fine-tuned model created: ft:gpt-3.5-turbo-0125:personal::9sTR2OdS', object='fine_tuning.job.event', data={}, type='message'),\n",
              " FineTuningJobEvent(id='ftevent-vdiQ1TsZdZGLGuBO20FoxNuD', created_at=1722769889, level='info', message='Checkpoint created at step 134 with Snapshot ID: ft:gpt-3.5-turbo-0125:personal::9sTR2GEy:ckpt-step-134', object='fine_tuning.job.event', data={}, type='message'),\n",
              " FineTuningJobEvent(id='ftevent-0MmBKOYmTYi2QxZX29g7VpTA', created_at=1722769889, level='info', message='Checkpoint created at step 67 with Snapshot ID: ft:gpt-3.5-turbo-0125:personal::9sTR2Agx:ckpt-step-67', object='fine_tuning.job.event', data={}, type='message'),\n",
              " FineTuningJobEvent(id='ftevent-6LS6X4Dq9nG36KZ78mHpGZwQ', created_at=1722769877, level='info', message='Step 201/201: training loss=0.04', object='fine_tuning.job.event', data={'step': 201, 'train_loss': 0.0383928082883358, 'total_steps': 201, 'train_mean_token_accuracy': 0.9629629850387573}, type='metrics'),\n",
              " FineTuningJobEvent(id='ftevent-XEB8BE97RikXjubeVtjGJZMB', created_at=1722769875, level='info', message='Step 200/201: training loss=0.14', object='fine_tuning.job.event', data={'step': 200, 'train_loss': 0.13929465413093567, 'total_steps': 201, 'train_mean_token_accuracy': 0.9259259104728699}, type='metrics'),\n",
              " FineTuningJobEvent(id='ftevent-8jwnSTm7SjqfDIyshMIpFXrn', created_at=1722769873, level='info', message='Step 199/201: training loss=0.02', object='fine_tuning.job.event', data={'step': 199, 'train_loss': 0.021748732775449753, 'total_steps': 201, 'train_mean_token_accuracy': 1.0}, type='metrics'),\n",
              " FineTuningJobEvent(id='ftevent-e7yTlcfcVuHK1ks1n4BuGzFu', created_at=1722769873, level='info', message='Step 198/201: training loss=0.13', object='fine_tuning.job.event', data={'step': 198, 'train_loss': 0.12803928554058075, 'total_steps': 201, 'train_mean_token_accuracy': 0.9230769276618958}, type='metrics'),\n",
              " FineTuningJobEvent(id='ftevent-RVFrID3yhy4YSqvGOkrdJ0om', created_at=1722769871, level='info', message='Step 197/201: training loss=0.04', object='fine_tuning.job.event', data={'step': 197, 'train_loss': 0.041477661579847336, 'total_steps': 201, 'train_mean_token_accuracy': 0.9599999785423279}, type='metrics'),\n",
              " FineTuningJobEvent(id='ftevent-Jdrq4GzE7cewUAOse7F1nxKn', created_at=1722769869, level='info', message='Step 196/201: training loss=0.04', object='fine_tuning.job.event', data={'step': 196, 'train_loss': 0.04347191005945206, 'total_steps': 201, 'train_mean_token_accuracy': 0.9599999785423279}, type='metrics'),\n",
              " FineTuningJobEvent(id='ftevent-f92h9aXGgHxfWGJFcCd8SA6W', created_at=1722769867, level='info', message='Step 195/201: training loss=0.07', object='fine_tuning.job.event', data={'step': 195, 'train_loss': 0.07302263379096985, 'total_steps': 201, 'train_mean_token_accuracy': 0.9629629850387573}, type='metrics'),\n",
              " FineTuningJobEvent(id='ftevent-cI3gVnBcMItYrK5ENgzS2S8b', created_at=1722769865, level='info', message='Step 194/201: training loss=0.02', object='fine_tuning.job.event', data={'step': 194, 'train_loss': 0.020565491169691086, 'total_steps': 201, 'train_mean_token_accuracy': 1.0}, type='metrics'),\n",
              " FineTuningJobEvent(id='ftevent-JyXd2IfbpsbBnRjL8A0tvoxM', created_at=1722769863, level='info', message='Step 193/201: training loss=0.03', object='fine_tuning.job.event', data={'step': 193, 'train_loss': 0.029163291677832603, 'total_steps': 201, 'train_mean_token_accuracy': 0.9642857313156128}, type='metrics'),\n",
              " FineTuningJobEvent(id='ftevent-aclDew1Gacobar8OaGlT9n1S', created_at=1722769863, level='info', message='Step 192/201: training loss=0.05', object='fine_tuning.job.event', data={'step': 192, 'train_loss': 0.04581430181860924, 'total_steps': 201, 'train_mean_token_accuracy': 0.9629629850387573}, type='metrics'),\n",
              " FineTuningJobEvent(id='ftevent-hJ89BsBXDkxF33h3fHPvSjLY', created_at=1722769861, level='info', message='Step 191/201: training loss=0.00', object='fine_tuning.job.event', data={'step': 191, 'train_loss': 5.1569054448918905e-06, 'total_steps': 201, 'train_mean_token_accuracy': 1.0}, type='metrics'),\n",
              " FineTuningJobEvent(id='ftevent-iT2yYL7EiEHjWzp2Q9uQMZ5y', created_at=1722769859, level='info', message='Step 190/201: training loss=0.05', object='fine_tuning.job.event', data={'step': 190, 'train_loss': 0.047587890177965164, 'total_steps': 201, 'train_mean_token_accuracy': 0.9599999785423279}, type='metrics'),\n",
              " FineTuningJobEvent(id='ftevent-iVwbPk21Ov4ozTS5Pfubsocr', created_at=1722769857, level='info', message='Step 189/201: training loss=0.11', object='fine_tuning.job.event', data={'step': 189, 'train_loss': 0.11155451089143753, 'total_steps': 201, 'train_mean_token_accuracy': 0.9615384340286255}, type='metrics'),\n",
              " FineTuningJobEvent(id='ftevent-VBupKuke5j3qnUDfUrUSI7kc', created_at=1722769855, level='info', message='Step 188/201: training loss=0.03', object='fine_tuning.job.event', data={'step': 188, 'train_loss': 0.030781541019678116, 'total_steps': 201, 'train_mean_token_accuracy': 0.9642857313156128}, type='metrics'),\n",
              " FineTuningJobEvent(id='ftevent-qZm7x6yRrNTXcvFlLzy6kf9M', created_at=1722769855, level='info', message='Step 187/201: training loss=0.03', object='fine_tuning.job.event', data={'step': 187, 'train_loss': 0.028768004849553108, 'total_steps': 201, 'train_mean_token_accuracy': 1.0}, type='metrics'),\n",
              " FineTuningJobEvent(id='ftevent-Y8UUjC86NWnmgtRAobzt7KRL', created_at=1722769853, level='info', message='Step 186/201: training loss=0.02', object='fine_tuning.job.event', data={'step': 186, 'train_loss': 0.023938242346048355, 'total_steps': 201, 'train_mean_token_accuracy': 1.0}, type='metrics'),\n",
              " FineTuningJobEvent(id='ftevent-4SELCdNhrLPywKydoMaDC0Hq', created_at=1722769851, level='info', message='Step 185/201: training loss=0.02', object='fine_tuning.job.event', data={'step': 185, 'train_loss': 0.016489101573824883, 'total_steps': 201, 'train_mean_token_accuracy': 1.0}, type='metrics'),\n",
              " FineTuningJobEvent(id='ftevent-7BjXUV2OuzMw0J42SmKnqwNo', created_at=1722769849, level='info', message='Step 184/201: training loss=0.00', object='fine_tuning.job.event', data={'step': 184, 'train_loss': 6.075258625060087e-06, 'total_steps': 201, 'train_mean_token_accuracy': 1.0}, type='metrics'),\n",
              " FineTuningJobEvent(id='ftevent-oYZ9wbarrFPNcLl64OJtcjD3', created_at=1722769847, level='info', message='Step 183/201: training loss=0.08', object='fine_tuning.job.event', data={'step': 183, 'train_loss': 0.07979018986225128, 'total_steps': 201, 'train_mean_token_accuracy': 0.9615384340286255}, type='metrics'),\n",
              " FineTuningJobEvent(id='ftevent-oKgyaX7JScDODtdpteLaZ9MN', created_at=1722769845, level='info', message='Step 182/201: training loss=0.00', object='fine_tuning.job.event', data={'step': 182, 'train_loss': 0.00018169262330047786, 'total_steps': 201, 'train_mean_token_accuracy': 1.0}, type='metrics'),\n",
              " FineTuningJobEvent(id='ftevent-a6PYLrYGZGtHqP4jDdOtNKE0', created_at=1722769845, level='info', message='Step 181/201: training loss=0.10', object='fine_tuning.job.event', data={'step': 181, 'train_loss': 0.10148490965366364, 'total_steps': 201, 'train_mean_token_accuracy': 0.9599999785423279}, type='metrics'),\n",
              " FineTuningJobEvent(id='ftevent-1lvrge75ljk5qubpzxgGwpwk', created_at=1722769843, level='info', message='Step 180/201: training loss=0.22', object='fine_tuning.job.event', data={'step': 180, 'train_loss': 0.2248864322900772, 'total_steps': 201, 'train_mean_token_accuracy': 0.9629629850387573}, type='metrics'),\n",
              " FineTuningJobEvent(id='ftevent-m5KvOoO5nVq297B5MyTRTAi6', created_at=1722769841, level='info', message='Step 179/201: training loss=0.41', object='fine_tuning.job.event', data={'step': 179, 'train_loss': 0.4085005223751068, 'total_steps': 201, 'train_mean_token_accuracy': 0.8846153616905212}, type='metrics'),\n",
              " FineTuningJobEvent(id='ftevent-98rDWDRfZ7N2OeUEEcTKdszB', created_at=1722769838, level='info', message='Step 178/201: training loss=0.06', object='fine_tuning.job.event', data={'step': 178, 'train_loss': 0.06401266902685165, 'total_steps': 201, 'train_mean_token_accuracy': 0.9629629850387573}, type='metrics'),\n",
              " FineTuningJobEvent(id='ftevent-0IBTYuqkMumwKxfnOApY8AT0', created_at=1722769836, level='info', message='Step 177/201: training loss=0.06', object='fine_tuning.job.event', data={'step': 177, 'train_loss': 0.057107631117105484, 'total_steps': 201, 'train_mean_token_accuracy': 1.0}, type='metrics'),\n",
              " FineTuningJobEvent(id='ftevent-vmRo1rSjg6hYa7MXbUnbJX0N', created_at=1722769834, level='info', message='Step 176/201: training loss=0.11', object='fine_tuning.job.event', data={'step': 176, 'train_loss': 0.10723085701465607, 'total_steps': 201, 'train_mean_token_accuracy': 0.9259259104728699}, type='metrics'),\n",
              " FineTuningJobEvent(id='ftevent-eR8l9dqkUf9G9bFoO6uFX2Vu', created_at=1722769832, level='info', message='Step 175/201: training loss=0.07', object='fine_tuning.job.event', data={'step': 175, 'train_loss': 0.06689026206731796, 'total_steps': 201, 'train_mean_token_accuracy': 0.9599999785423279}, type='metrics'),\n",
              " FineTuningJobEvent(id='ftevent-jxOliDwzs3pmNjo9V59cGoMa', created_at=1722769832, level='info', message='Step 174/201: training loss=0.17', object='fine_tuning.job.event', data={'step': 174, 'train_loss': 0.17285452783107758, 'total_steps': 201, 'train_mean_token_accuracy': 0.9629629850387573}, type='metrics'),\n",
              " FineTuningJobEvent(id='ftevent-TKZxYSyaLPSAT9qak0s4iHrL', created_at=1722769830, level='info', message='Step 173/201: training loss=0.12', object='fine_tuning.job.event', data={'step': 173, 'train_loss': 0.11532995104789734, 'total_steps': 201, 'train_mean_token_accuracy': 0.9629629850387573}, type='metrics'),\n",
              " FineTuningJobEvent(id='ftevent-S0vPqxGBy5aTfSKsIRj8KvFd', created_at=1722769828, level='info', message='Step 172/201: training loss=0.11', object='fine_tuning.job.event', data={'step': 172, 'train_loss': 0.1088392585515976, 'total_steps': 201, 'train_mean_token_accuracy': 0.9615384340286255}, type='metrics'),\n",
              " FineTuningJobEvent(id='ftevent-ODE84Pvn35vJjUFLi8vVvKF7', created_at=1722769826, level='info', message='Step 171/201: training loss=0.03', object='fine_tuning.job.event', data={'step': 171, 'train_loss': 0.03362236171960831, 'total_steps': 201, 'train_mean_token_accuracy': 0.9599999785423279}, type='metrics'),\n",
              " FineTuningJobEvent(id='ftevent-ET0I8hJS855IJWh5oSreyTjL', created_at=1722769824, level='info', message='Step 170/201: training loss=0.03', object='fine_tuning.job.event', data={'step': 170, 'train_loss': 0.030749615281820297, 'total_steps': 201, 'train_mean_token_accuracy': 1.0}, type='metrics'),\n",
              " FineTuningJobEvent(id='ftevent-611dIr6GupIOCpgVwQ1MTAQw', created_at=1722769824, level='info', message='Step 169/201: training loss=0.14', object='fine_tuning.job.event', data={'step': 169, 'train_loss': 0.13831597566604614, 'total_steps': 201, 'train_mean_token_accuracy': 0.9259259104728699}, type='metrics'),\n",
              " FineTuningJobEvent(id='ftevent-QujOIdSclSfoM6xAiOwTUSpZ', created_at=1722769822, level='info', message='Step 168/201: training loss=0.43', object='fine_tuning.job.event', data={'step': 168, 'train_loss': 0.4334615468978882, 'total_steps': 201, 'train_mean_token_accuracy': 0.8399999737739563}, type='metrics'),\n",
              " FineTuningJobEvent(id='ftevent-x20MecKaRTtxRAq0CruPRMWY', created_at=1722769820, level='info', message='Step 167/201: training loss=0.07', object='fine_tuning.job.event', data={'step': 167, 'train_loss': 0.06661268323659897, 'total_steps': 201, 'train_mean_token_accuracy': 0.9615384340286255}, type='metrics'),\n",
              " FineTuningJobEvent(id='ftevent-DPtVtqFDr0dpbTdnkv9Q9SsO', created_at=1722769818, level='info', message='Step 166/201: training loss=0.00', object='fine_tuning.job.event', data={'step': 166, 'train_loss': 1.9779910871875472e-05, 'total_steps': 201, 'train_mean_token_accuracy': 1.0}, type='metrics'),\n",
              " FineTuningJobEvent(id='ftevent-Jh5Ocysa12Wk9a70HvEgCv3d', created_at=1722769816, level='info', message='Step 165/201: training loss=0.04', object='fine_tuning.job.event', data={'step': 165, 'train_loss': 0.038702305406332016, 'total_steps': 201, 'train_mean_token_accuracy': 0.9615384340286255}, type='metrics'),\n",
              " FineTuningJobEvent(id='ftevent-1Kg99Im0T5KJIsd9Edu6KWaD', created_at=1722769814, level='info', message='Step 164/201: training loss=0.04', object='fine_tuning.job.event', data={'step': 164, 'train_loss': 0.04315884783864021, 'total_steps': 201, 'train_mean_token_accuracy': 0.9629629850387573}, type='metrics'),\n",
              " FineTuningJobEvent(id='ftevent-ULVTHVFTMI1TOTdpuQyoLsmL', created_at=1722769814, level='info', message='Step 163/201: training loss=0.00', object='fine_tuning.job.event', data={'step': 163, 'train_loss': 2.9881795853725635e-05, 'total_steps': 201, 'train_mean_token_accuracy': 1.0}, type='metrics'),\n",
              " FineTuningJobEvent(id='ftevent-v4elpOqtbPqfCpfcVOJtlkmA', created_at=1722769812, level='info', message='Step 162/201: training loss=0.07', object='fine_tuning.job.event', data={'step': 162, 'train_loss': 0.06674423068761826, 'total_steps': 201, 'train_mean_token_accuracy': 0.9599999785423279}, type='metrics'),\n",
              " FineTuningJobEvent(id='ftevent-g28DmVFwcS2QK4HRknk3Fnuy', created_at=1722769810, level='info', message='Step 161/201: training loss=0.00', object='fine_tuning.job.event', data={'step': 161, 'train_loss': 4.033689037896693e-05, 'total_steps': 201, 'train_mean_token_accuracy': 1.0}, type='metrics'),\n",
              " FineTuningJobEvent(id='ftevent-L4Fc4Zf0M8fRdL3JPCIqlJ7H', created_at=1722769808, level='info', message='Step 160/201: training loss=0.03', object='fine_tuning.job.event', data={'step': 160, 'train_loss': 0.03421429172158241, 'total_steps': 201, 'train_mean_token_accuracy': 0.9642857313156128}, type='metrics'),\n",
              " FineTuningJobEvent(id='ftevent-tcdiuyevtqH5d73ayOtbTrte', created_at=1722769806, level='info', message='Step 159/201: training loss=0.06', object='fine_tuning.job.event', data={'step': 159, 'train_loss': 0.060013312846422195, 'total_steps': 201, 'train_mean_token_accuracy': 0.9629629850387573}, type='metrics'),\n",
              " FineTuningJobEvent(id='ftevent-ZtnzShRbn45HkBZR2Eqk4HUQ', created_at=1722769804, level='info', message='Step 158/201: training loss=0.36', object='fine_tuning.job.event', data={'step': 158, 'train_loss': 0.36462533473968506, 'total_steps': 201, 'train_mean_token_accuracy': 0.9200000166893005}, type='metrics'),\n",
              " FineTuningJobEvent(id='ftevent-ZAOfT4nzSFx8rZEuCbOtBbmy', created_at=1722769802, level='info', message='Step 157/201: training loss=0.00', object='fine_tuning.job.event', data={'step': 157, 'train_loss': 7.565816486021504e-05, 'total_steps': 201, 'train_mean_token_accuracy': 1.0}, type='metrics'),\n",
              " FineTuningJobEvent(id='ftevent-Ca00rs1uEIbOTHfj7eudrXPU', created_at=1722769800, level='info', message='Step 156/201: training loss=0.04', object='fine_tuning.job.event', data={'step': 156, 'train_loss': 0.03655967861413956, 'total_steps': 201, 'train_mean_token_accuracy': 1.0}, type='metrics'),\n",
              " FineTuningJobEvent(id='ftevent-rV3Hk21sBrIuStGsKrD4LCIG', created_at=1722769800, level='info', message='Step 155/201: training loss=0.08', object='fine_tuning.job.event', data={'step': 155, 'train_loss': 0.08395235985517502, 'total_steps': 201, 'train_mean_token_accuracy': 0.9642857313156128}, type='metrics'),\n",
              " FineTuningJobEvent(id='ftevent-XLPThqMuY5JyYQ26eYOEsuAl', created_at=1722769798, level='info', message='Step 154/201: training loss=0.04', object='fine_tuning.job.event', data={'step': 154, 'train_loss': 0.03781121224164963, 'total_steps': 201, 'train_mean_token_accuracy': 0.9655172228813171}, type='metrics'),\n",
              " FineTuningJobEvent(id='ftevent-yh4iWxqg7k0lizdvY9ajNpra', created_at=1722769796, level='info', message='Step 153/201: training loss=0.04', object='fine_tuning.job.event', data={'step': 153, 'train_loss': 0.03606187552213669, 'total_steps': 201, 'train_mean_token_accuracy': 0.9615384340286255}, type='metrics'),\n",
              " FineTuningJobEvent(id='ftevent-yLxmYZujvL1twBf28BJcux8Q', created_at=1722769794, level='info', message='Step 152/201: training loss=0.10', object='fine_tuning.job.event', data={'step': 152, 'train_loss': 0.09944082051515579, 'total_steps': 201, 'train_mean_token_accuracy': 0.9629629850387573}, type='metrics'),\n",
              " FineTuningJobEvent(id='ftevent-sUsoe0B9RsT7N0RfNhTlDUoh', created_at=1722769792, level='info', message='Step 151/201: training loss=0.03', object='fine_tuning.job.event', data={'step': 151, 'train_loss': 0.034714508801698685, 'total_steps': 201, 'train_mean_token_accuracy': 0.9599999785423279}, type='metrics'),\n",
              " FineTuningJobEvent(id='ftevent-Y3SOiU87LuTs9eWord1qCxsX', created_at=1722769790, level='info', message='Step 150/201: training loss=0.03', object='fine_tuning.job.event', data={'step': 150, 'train_loss': 0.030241012573242188, 'total_steps': 201, 'train_mean_token_accuracy': 1.0}, type='metrics'),\n",
              " FineTuningJobEvent(id='ftevent-SNrmHMsIouoHmCYfqjdSZ5dh', created_at=1722769790, level='info', message='Step 149/201: training loss=0.05', object='fine_tuning.job.event', data={'step': 149, 'train_loss': 0.04838397726416588, 'total_steps': 201, 'train_mean_token_accuracy': 0.9655172228813171}, type='metrics'),\n",
              " FineTuningJobEvent(id='ftevent-NeuMMcV9CXZMImynxoKpqmSN', created_at=1722769788, level='info', message='Step 148/201: training loss=0.03', object='fine_tuning.job.event', data={'step': 148, 'train_loss': 0.029120739549398422, 'total_steps': 201, 'train_mean_token_accuracy': 1.0}, type='metrics'),\n",
              " FineTuningJobEvent(id='ftevent-u0aNkAzrYBHCmLr48WRx5f1x', created_at=1722769786, level='info', message='Step 147/201: training loss=0.00', object='fine_tuning.job.event', data={'step': 147, 'train_loss': 0.0002928839821834117, 'total_steps': 201, 'train_mean_token_accuracy': 1.0}, type='metrics'),\n",
              " FineTuningJobEvent(id='ftevent-exjayc7pkoVpg72OfYV6u1DZ', created_at=1722769784, level='info', message='Step 146/201: training loss=0.00', object='fine_tuning.job.event', data={'step': 146, 'train_loss': 0.0005794807802885771, 'total_steps': 201, 'train_mean_token_accuracy': 1.0}, type='metrics'),\n",
              " FineTuningJobEvent(id='ftevent-en6UMz6ohQw9pIDUkQuNpNq4', created_at=1722769782, level='info', message='Step 145/201: training loss=0.04', object='fine_tuning.job.event', data={'step': 145, 'train_loss': 0.03800519183278084, 'total_steps': 201, 'train_mean_token_accuracy': 0.9583333134651184}, type='metrics'),\n",
              " FineTuningJobEvent(id='ftevent-v5S0kt0JBSkCPEgrjUrz0qcQ', created_at=1722769780, level='info', message='Step 144/201: training loss=0.13', object='fine_tuning.job.event', data={'step': 144, 'train_loss': 0.12584832310676575, 'total_steps': 201, 'train_mean_token_accuracy': 0.9615384340286255}, type='metrics'),\n",
              " FineTuningJobEvent(id='ftevent-W6yrKncP2h5IKEqCRKpYh1bG', created_at=1722769780, level='info', message='Step 143/201: training loss=0.03', object='fine_tuning.job.event', data={'step': 143, 'train_loss': 0.030014190822839737, 'total_steps': 201, 'train_mean_token_accuracy': 1.0}, type='metrics'),\n",
              " FineTuningJobEvent(id='ftevent-r5CJoHpmTB9D1WWiG3t6WKgJ', created_at=1722769778, level='info', message='Step 142/201: training loss=0.09', object='fine_tuning.job.event', data={'step': 142, 'train_loss': 0.09318137913942337, 'total_steps': 201, 'train_mean_token_accuracy': 0.9599999785423279}, type='metrics'),\n",
              " FineTuningJobEvent(id='ftevent-4sE5qMtu13wmaM3Sbe4a3Rta', created_at=1722769776, level='info', message='Step 141/201: training loss=0.02', object='fine_tuning.job.event', data={'step': 141, 'train_loss': 0.020153559744358063, 'total_steps': 201, 'train_mean_token_accuracy': 1.0}, type='metrics'),\n",
              " FineTuningJobEvent(id='ftevent-keQSahJIH9ox6CelM4UsUk5N', created_at=1722769774, level='info', message='Step 140/201: training loss=0.16', object='fine_tuning.job.event', data={'step': 140, 'train_loss': 0.16066819429397583, 'total_steps': 201, 'train_mean_token_accuracy': 0.9629629850387573}, type='metrics'),\n",
              " FineTuningJobEvent(id='ftevent-ti6AF8VYirexxQegvS2bwe4A', created_at=1722769772, level='info', message='Step 139/201: training loss=0.08', object='fine_tuning.job.event', data={'step': 139, 'train_loss': 0.08292798697948456, 'total_steps': 201, 'train_mean_token_accuracy': 0.9629629850387573}, type='metrics'),\n",
              " FineTuningJobEvent(id='ftevent-NzuFjf7OEMPBRRaGOMAfjqY2', created_at=1722769772, level='info', message='Step 138/201: training loss=0.04', object='fine_tuning.job.event', data={'step': 138, 'train_loss': 0.035462599247694016, 'total_steps': 201, 'train_mean_token_accuracy': 1.0}, type='metrics'),\n",
              " FineTuningJobEvent(id='ftevent-Yp1ytjplOh9BqI0WNawL4mP6', created_at=1722769770, level='info', message='Step 137/201: training loss=0.03', object='fine_tuning.job.event', data={'step': 137, 'train_loss': 0.03462226316332817, 'total_steps': 201, 'train_mean_token_accuracy': 1.0}, type='metrics'),\n",
              " FineTuningJobEvent(id='ftevent-K6rur2hCLIkgHc9q7eqnX3Fz', created_at=1722769768, level='info', message='Step 136/201: training loss=0.03', object='fine_tuning.job.event', data={'step': 136, 'train_loss': 0.032006531953811646, 'total_steps': 201, 'train_mean_token_accuracy': 1.0}, type='metrics'),\n",
              " FineTuningJobEvent(id='ftevent-vGdp3zsajoj0h5hvAqW9U6PG', created_at=1722769766, level='info', message='Step 135/201: training loss=0.06', object='fine_tuning.job.event', data={'step': 135, 'train_loss': 0.06055091693997383, 'total_steps': 201, 'train_mean_token_accuracy': 0.9599999785423279}, type='metrics'),\n",
              " FineTuningJobEvent(id='ftevent-B09HEBP3EEPW432c2hUWK2pK', created_at=1722769764, level='info', message='Step 134/201: training loss=0.03', object='fine_tuning.job.event', data={'step': 134, 'train_loss': 0.026370014995336533, 'total_steps': 201, 'train_mean_token_accuracy': 1.0}, type='metrics'),\n",
              " FineTuningJobEvent(id='ftevent-MGYV8XsE5RsDHHGAAeHb3rlr', created_at=1722769761, level='info', message='Step 133/201: training loss=0.00', object='fine_tuning.job.event', data={'step': 133, 'train_loss': 0.0004184157878626138, 'total_steps': 201, 'train_mean_token_accuracy': 1.0}, type='metrics'),\n",
              " FineTuningJobEvent(id='ftevent-Fy8PNv2YCxtiIr4RdC11TpPc', created_at=1722769761, level='info', message='Step 132/201: training loss=0.07', object='fine_tuning.job.event', data={'step': 132, 'train_loss': 0.07211670279502869, 'total_steps': 201, 'train_mean_token_accuracy': 0.9599999785423279}, type='metrics'),\n",
              " FineTuningJobEvent(id='ftevent-f6LgZfiAZMN9XO6HW8txyI9H', created_at=1722769759, level='info', message='Step 131/201: training loss=0.08', object='fine_tuning.job.event', data={'step': 131, 'train_loss': 0.07722414284944534, 'total_steps': 201, 'train_mean_token_accuracy': 0.9615384340286255}, type='metrics'),\n",
              " FineTuningJobEvent(id='ftevent-bf4k6lybDiypYx7E6fUU3b8w', created_at=1722769757, level='info', message='Step 130/201: training loss=0.13', object='fine_tuning.job.event', data={'step': 130, 'train_loss': 0.13227491080760956, 'total_steps': 201, 'train_mean_token_accuracy': 0.9259259104728699}, type='metrics'),\n",
              " FineTuningJobEvent(id='ftevent-6Y1v8IeI9ZW4SIo55jxu36Em', created_at=1722769755, level='info', message='Step 129/201: training loss=0.26', object='fine_tuning.job.event', data={'step': 129, 'train_loss': 0.2587743103504181, 'total_steps': 201, 'train_mean_token_accuracy': 0.9259259104728699}, type='metrics'),\n",
              " FineTuningJobEvent(id='ftevent-Z3W6bDxBazlTXJ4UJuACC43u', created_at=1722769753, level='info', message='Step 128/201: training loss=0.13', object='fine_tuning.job.event', data={'step': 128, 'train_loss': 0.12581275403499603, 'total_steps': 201, 'train_mean_token_accuracy': 0.9599999785423279}, type='metrics'),\n",
              " FineTuningJobEvent(id='ftevent-8DzL6KFQ7qbGA8nYvxog8hxr', created_at=1722769751, level='info', message='Step 127/201: training loss=0.21', object='fine_tuning.job.event', data={'step': 127, 'train_loss': 0.2093612253665924, 'total_steps': 201, 'train_mean_token_accuracy': 0.8846153616905212}, type='metrics'),\n",
              " FineTuningJobEvent(id='ftevent-YDddssUoB8c9vs1JkseypsZU', created_at=1722769751, level='info', message='Step 126/201: training loss=0.18', object='fine_tuning.job.event', data={'step': 126, 'train_loss': 0.1761443018913269, 'total_steps': 201, 'train_mean_token_accuracy': 0.9615384340286255}, type='metrics'),\n",
              " FineTuningJobEvent(id='ftevent-QKxUCsSCCzH7X8dvbL2Vlw3N', created_at=1722769749, level='info', message='Step 125/201: training loss=0.07', object='fine_tuning.job.event', data={'step': 125, 'train_loss': 0.07364507764577866, 'total_steps': 201, 'train_mean_token_accuracy': 0.9615384340286255}, type='metrics'),\n",
              " FineTuningJobEvent(id='ftevent-08AoJ8yXLdolm0cWfsYHXlxZ', created_at=1722769747, level='info', message='Step 124/201: training loss=0.14', object='fine_tuning.job.event', data={'step': 124, 'train_loss': 0.14096634089946747, 'total_steps': 201, 'train_mean_token_accuracy': 0.9259259104728699}, type='metrics'),\n",
              " FineTuningJobEvent(id='ftevent-qsFl2s5aNicr9uodBokK2vTh', created_at=1722769745, level='info', message='Step 123/201: training loss=0.11', object='fine_tuning.job.event', data={'step': 123, 'train_loss': 0.10684889554977417, 'total_steps': 201, 'train_mean_token_accuracy': 0.9629629850387573}, type='metrics'),\n",
              " FineTuningJobEvent(id='ftevent-qZujFMuOXdnshvvcXkpqBOBt', created_at=1722769743, level='info', message='Step 122/201: training loss=0.17', object='fine_tuning.job.event', data={'step': 122, 'train_loss': 0.17124043405056, 'total_steps': 201, 'train_mean_token_accuracy': 0.9615384340286255}, type='metrics'),\n",
              " FineTuningJobEvent(id='ftevent-xG4l77J9bfY0rYLjL3EzeIaW', created_at=1722769741, level='info', message='Step 121/201: training loss=0.08', object='fine_tuning.job.event', data={'step': 121, 'train_loss': 0.0788213312625885, 'total_steps': 201, 'train_mean_token_accuracy': 0.9599999785423279}, type='metrics'),\n",
              " FineTuningJobEvent(id='ftevent-UzgiamXcySRgudUSDDyiCF52', created_at=1722769741, level='info', message='Step 120/201: training loss=0.00', object='fine_tuning.job.event', data={'step': 120, 'train_loss': 0.0008839501533657312, 'total_steps': 201, 'train_mean_token_accuracy': 1.0}, type='metrics'),\n",
              " FineTuningJobEvent(id='ftevent-w6E3EUbFUweiJPkERRVFB4qm', created_at=1722769739, level='info', message='Step 119/201: training loss=0.06', object='fine_tuning.job.event', data={'step': 119, 'train_loss': 0.061488114297389984, 'total_steps': 201, 'train_mean_token_accuracy': 0.9599999785423279}, type='metrics'),\n",
              " FineTuningJobEvent(id='ftevent-oU7I406pWGveVtKf4jfR3SM0', created_at=1722769737, level='info', message='Step 118/201: training loss=0.02', object='fine_tuning.job.event', data={'step': 118, 'train_loss': 0.016142455860972404, 'total_steps': 201, 'train_mean_token_accuracy': 1.0}, type='metrics'),\n",
              " FineTuningJobEvent(id='ftevent-gAAFDsVfLj2kGdIrB5Uzb2A4', created_at=1722769735, level='info', message='Step 117/201: training loss=0.13', object='fine_tuning.job.event', data={'step': 117, 'train_loss': 0.12850874662399292, 'total_steps': 201, 'train_mean_token_accuracy': 0.9629629850387573}, type='metrics'),\n",
              " FineTuningJobEvent(id='ftevent-3XhiJD3EcwwEwP8sjWXEWyG9', created_at=1722769733, level='info', message='Step 116/201: training loss=0.06', object='fine_tuning.job.event', data={'step': 116, 'train_loss': 0.057364579290151596, 'total_steps': 201, 'train_mean_token_accuracy': 0.9599999785423279}, type='metrics'),\n",
              " FineTuningJobEvent(id='ftevent-IVQ2hNr6Bi7b8MY3F6xWhuED', created_at=1722769731, level='info', message='Step 115/201: training loss=0.20', object='fine_tuning.job.event', data={'step': 115, 'train_loss': 0.20152167975902557, 'total_steps': 201, 'train_mean_token_accuracy': 0.9200000166893005}, type='metrics'),\n",
              " FineTuningJobEvent(id='ftevent-vkLwYtkaDcWogKdXaHC19qb5', created_at=1722769731, level='info', message='Step 114/201: training loss=0.09', object='fine_tuning.job.event', data={'step': 114, 'train_loss': 0.09246356785297394, 'total_steps': 201, 'train_mean_token_accuracy': 0.9615384340286255}, type='metrics'),\n",
              " FineTuningJobEvent(id='ftevent-W8nmvIrJv7eWrMII1nk7ZFxt', created_at=1722769729, level='info', message='Step 113/201: training loss=0.10', object='fine_tuning.job.event', data={'step': 113, 'train_loss': 0.09594795107841492, 'total_steps': 201, 'train_mean_token_accuracy': 0.9599999785423279}, type='metrics'),\n",
              " FineTuningJobEvent(id='ftevent-J22an1kYrmxxIILe7hLgamp7', created_at=1722769727, level='info', message='Step 112/201: training loss=0.07', object='fine_tuning.job.event', data={'step': 112, 'train_loss': 0.07026361674070358, 'total_steps': 201, 'train_mean_token_accuracy': 0.9629629850387573}, type='metrics'),\n",
              " FineTuningJobEvent(id='ftevent-TtEzKahq6x2XIccyagqX1tpU', created_at=1722769725, level='info', message='Step 111/201: training loss=0.68', object='fine_tuning.job.event', data={'step': 111, 'train_loss': 0.6845681667327881, 'total_steps': 201, 'train_mean_token_accuracy': 0.8399999737739563}, type='metrics'),\n",
              " FineTuningJobEvent(id='ftevent-Eqq37SSjw1DU9QHYu4GjZxoW', created_at=1722769723, level='info', message='Step 110/201: training loss=0.15', object='fine_tuning.job.event', data={'step': 110, 'train_loss': 0.1473212093114853, 'total_steps': 201, 'train_mean_token_accuracy': 0.9629629850387573}, type='metrics'),\n",
              " FineTuningJobEvent(id='ftevent-LU2AWpRTiQoc1BXraPVjQDq6', created_at=1722769721, level='info', message='Step 109/201: training loss=0.09', object='fine_tuning.job.event', data={'step': 109, 'train_loss': 0.08518791198730469, 'total_steps': 201, 'train_mean_token_accuracy': 0.9599999785423279}, type='metrics'),\n",
              " FineTuningJobEvent(id='ftevent-R2mICnMUsNmLfy61ihuHwaKV', created_at=1722769721, level='info', message='Step 108/201: training loss=0.01', object='fine_tuning.job.event', data={'step': 108, 'train_loss': 0.010990829207003117, 'total_steps': 201, 'train_mean_token_accuracy': 1.0}, type='metrics'),\n",
              " FineTuningJobEvent(id='ftevent-3BohYuJCj8i2emTUMqtooCfh', created_at=1722769719, level='info', message='Step 107/201: training loss=0.01', object='fine_tuning.job.event', data={'step': 107, 'train_loss': 0.009690871462225914, 'total_steps': 201, 'train_mean_token_accuracy': 1.0}, type='metrics'),\n",
              " FineTuningJobEvent(id='ftevent-yXwnb10UHbTy8deSjeYAUEYA', created_at=1722769717, level='info', message='Step 106/201: training loss=0.27', object='fine_tuning.job.event', data={'step': 106, 'train_loss': 0.26980626583099365, 'total_steps': 201, 'train_mean_token_accuracy': 0.9615384340286255}, type='metrics')]"
            ]
          },
          "metadata": {},
          "execution_count": 11
        }
      ]
    },
    {
      "cell_type": "code",
      "source": [
        "events = list(client.fine_tuning.jobs.list_events(fine_tuning_job_id = retrieved_job.id, limit = 100).data)\n",
        "\n",
        "for event in events:\n",
        "  print(event.message)"
      ],
      "metadata": {
        "id": "oY3emh8CjiJh",
        "colab": {
          "base_uri": "https://localhost:8080/"
        },
        "outputId": "e6b51343-3e12-4052-f60a-884540a025ea"
      },
      "execution_count": 12,
      "outputs": [
        {
          "output_type": "stream",
          "name": "stdout",
          "text": [
            "The job has successfully completed\n",
            "New fine-tuned model created: ft:gpt-3.5-turbo-0125:personal::9sTR2OdS\n",
            "Checkpoint created at step 134 with Snapshot ID: ft:gpt-3.5-turbo-0125:personal::9sTR2GEy:ckpt-step-134\n",
            "Checkpoint created at step 67 with Snapshot ID: ft:gpt-3.5-turbo-0125:personal::9sTR2Agx:ckpt-step-67\n",
            "Step 201/201: training loss=0.04\n",
            "Step 200/201: training loss=0.14\n",
            "Step 199/201: training loss=0.02\n",
            "Step 198/201: training loss=0.13\n",
            "Step 197/201: training loss=0.04\n",
            "Step 196/201: training loss=0.04\n",
            "Step 195/201: training loss=0.07\n",
            "Step 194/201: training loss=0.02\n",
            "Step 193/201: training loss=0.03\n",
            "Step 192/201: training loss=0.05\n",
            "Step 191/201: training loss=0.00\n",
            "Step 190/201: training loss=0.05\n",
            "Step 189/201: training loss=0.11\n",
            "Step 188/201: training loss=0.03\n",
            "Step 187/201: training loss=0.03\n",
            "Step 186/201: training loss=0.02\n",
            "Step 185/201: training loss=0.02\n",
            "Step 184/201: training loss=0.00\n",
            "Step 183/201: training loss=0.08\n",
            "Step 182/201: training loss=0.00\n",
            "Step 181/201: training loss=0.10\n",
            "Step 180/201: training loss=0.22\n",
            "Step 179/201: training loss=0.41\n",
            "Step 178/201: training loss=0.06\n",
            "Step 177/201: training loss=0.06\n",
            "Step 176/201: training loss=0.11\n",
            "Step 175/201: training loss=0.07\n",
            "Step 174/201: training loss=0.17\n",
            "Step 173/201: training loss=0.12\n",
            "Step 172/201: training loss=0.11\n",
            "Step 171/201: training loss=0.03\n",
            "Step 170/201: training loss=0.03\n",
            "Step 169/201: training loss=0.14\n",
            "Step 168/201: training loss=0.43\n",
            "Step 167/201: training loss=0.07\n",
            "Step 166/201: training loss=0.00\n",
            "Step 165/201: training loss=0.04\n",
            "Step 164/201: training loss=0.04\n",
            "Step 163/201: training loss=0.00\n",
            "Step 162/201: training loss=0.07\n",
            "Step 161/201: training loss=0.00\n",
            "Step 160/201: training loss=0.03\n",
            "Step 159/201: training loss=0.06\n",
            "Step 158/201: training loss=0.36\n",
            "Step 157/201: training loss=0.00\n",
            "Step 156/201: training loss=0.04\n",
            "Step 155/201: training loss=0.08\n",
            "Step 154/201: training loss=0.04\n",
            "Step 153/201: training loss=0.04\n",
            "Step 152/201: training loss=0.10\n",
            "Step 151/201: training loss=0.03\n",
            "Step 150/201: training loss=0.03\n",
            "Step 149/201: training loss=0.05\n",
            "Step 148/201: training loss=0.03\n",
            "Step 147/201: training loss=0.00\n",
            "Step 146/201: training loss=0.00\n",
            "Step 145/201: training loss=0.04\n",
            "Step 144/201: training loss=0.13\n",
            "Step 143/201: training loss=0.03\n",
            "Step 142/201: training loss=0.09\n",
            "Step 141/201: training loss=0.02\n",
            "Step 140/201: training loss=0.16\n",
            "Step 139/201: training loss=0.08\n",
            "Step 138/201: training loss=0.04\n",
            "Step 137/201: training loss=0.03\n",
            "Step 136/201: training loss=0.03\n",
            "Step 135/201: training loss=0.06\n",
            "Step 134/201: training loss=0.03\n",
            "Step 133/201: training loss=0.00\n",
            "Step 132/201: training loss=0.07\n",
            "Step 131/201: training loss=0.08\n",
            "Step 130/201: training loss=0.13\n",
            "Step 129/201: training loss=0.26\n",
            "Step 128/201: training loss=0.13\n",
            "Step 127/201: training loss=0.21\n",
            "Step 126/201: training loss=0.18\n",
            "Step 125/201: training loss=0.07\n",
            "Step 124/201: training loss=0.14\n",
            "Step 123/201: training loss=0.11\n",
            "Step 122/201: training loss=0.17\n",
            "Step 121/201: training loss=0.08\n",
            "Step 120/201: training loss=0.00\n",
            "Step 119/201: training loss=0.06\n",
            "Step 118/201: training loss=0.02\n",
            "Step 117/201: training loss=0.13\n",
            "Step 116/201: training loss=0.06\n",
            "Step 115/201: training loss=0.20\n",
            "Step 114/201: training loss=0.09\n",
            "Step 113/201: training loss=0.10\n",
            "Step 112/201: training loss=0.07\n",
            "Step 111/201: training loss=0.68\n",
            "Step 110/201: training loss=0.15\n",
            "Step 109/201: training loss=0.09\n",
            "Step 108/201: training loss=0.01\n",
            "Step 107/201: training loss=0.01\n",
            "Step 106/201: training loss=0.27\n"
          ]
        }
      ]
    },
    {
      "cell_type": "code",
      "source": [
        "# In every event the progress is stored in the following way\n",
        "for event in events:\n",
        "  print(event.data)"
      ],
      "metadata": {
        "id": "OZ5LZNHGl1c5",
        "colab": {
          "base_uri": "https://localhost:8080/"
        },
        "outputId": "4fdf4061-61d5-40ea-f299-bdd9b7f1850d"
      },
      "execution_count": 13,
      "outputs": [
        {
          "output_type": "stream",
          "name": "stdout",
          "text": [
            "{}\n",
            "{}\n",
            "{}\n",
            "{}\n",
            "{'step': 201, 'train_loss': 0.0383928082883358, 'total_steps': 201, 'train_mean_token_accuracy': 0.9629629850387573}\n",
            "{'step': 200, 'train_loss': 0.13929465413093567, 'total_steps': 201, 'train_mean_token_accuracy': 0.9259259104728699}\n",
            "{'step': 199, 'train_loss': 0.021748732775449753, 'total_steps': 201, 'train_mean_token_accuracy': 1.0}\n",
            "{'step': 198, 'train_loss': 0.12803928554058075, 'total_steps': 201, 'train_mean_token_accuracy': 0.9230769276618958}\n",
            "{'step': 197, 'train_loss': 0.041477661579847336, 'total_steps': 201, 'train_mean_token_accuracy': 0.9599999785423279}\n",
            "{'step': 196, 'train_loss': 0.04347191005945206, 'total_steps': 201, 'train_mean_token_accuracy': 0.9599999785423279}\n",
            "{'step': 195, 'train_loss': 0.07302263379096985, 'total_steps': 201, 'train_mean_token_accuracy': 0.9629629850387573}\n",
            "{'step': 194, 'train_loss': 0.020565491169691086, 'total_steps': 201, 'train_mean_token_accuracy': 1.0}\n",
            "{'step': 193, 'train_loss': 0.029163291677832603, 'total_steps': 201, 'train_mean_token_accuracy': 0.9642857313156128}\n",
            "{'step': 192, 'train_loss': 0.04581430181860924, 'total_steps': 201, 'train_mean_token_accuracy': 0.9629629850387573}\n",
            "{'step': 191, 'train_loss': 5.1569054448918905e-06, 'total_steps': 201, 'train_mean_token_accuracy': 1.0}\n",
            "{'step': 190, 'train_loss': 0.047587890177965164, 'total_steps': 201, 'train_mean_token_accuracy': 0.9599999785423279}\n",
            "{'step': 189, 'train_loss': 0.11155451089143753, 'total_steps': 201, 'train_mean_token_accuracy': 0.9615384340286255}\n",
            "{'step': 188, 'train_loss': 0.030781541019678116, 'total_steps': 201, 'train_mean_token_accuracy': 0.9642857313156128}\n",
            "{'step': 187, 'train_loss': 0.028768004849553108, 'total_steps': 201, 'train_mean_token_accuracy': 1.0}\n",
            "{'step': 186, 'train_loss': 0.023938242346048355, 'total_steps': 201, 'train_mean_token_accuracy': 1.0}\n",
            "{'step': 185, 'train_loss': 0.016489101573824883, 'total_steps': 201, 'train_mean_token_accuracy': 1.0}\n",
            "{'step': 184, 'train_loss': 6.075258625060087e-06, 'total_steps': 201, 'train_mean_token_accuracy': 1.0}\n",
            "{'step': 183, 'train_loss': 0.07979018986225128, 'total_steps': 201, 'train_mean_token_accuracy': 0.9615384340286255}\n",
            "{'step': 182, 'train_loss': 0.00018169262330047786, 'total_steps': 201, 'train_mean_token_accuracy': 1.0}\n",
            "{'step': 181, 'train_loss': 0.10148490965366364, 'total_steps': 201, 'train_mean_token_accuracy': 0.9599999785423279}\n",
            "{'step': 180, 'train_loss': 0.2248864322900772, 'total_steps': 201, 'train_mean_token_accuracy': 0.9629629850387573}\n",
            "{'step': 179, 'train_loss': 0.4085005223751068, 'total_steps': 201, 'train_mean_token_accuracy': 0.8846153616905212}\n",
            "{'step': 178, 'train_loss': 0.06401266902685165, 'total_steps': 201, 'train_mean_token_accuracy': 0.9629629850387573}\n",
            "{'step': 177, 'train_loss': 0.057107631117105484, 'total_steps': 201, 'train_mean_token_accuracy': 1.0}\n",
            "{'step': 176, 'train_loss': 0.10723085701465607, 'total_steps': 201, 'train_mean_token_accuracy': 0.9259259104728699}\n",
            "{'step': 175, 'train_loss': 0.06689026206731796, 'total_steps': 201, 'train_mean_token_accuracy': 0.9599999785423279}\n",
            "{'step': 174, 'train_loss': 0.17285452783107758, 'total_steps': 201, 'train_mean_token_accuracy': 0.9629629850387573}\n",
            "{'step': 173, 'train_loss': 0.11532995104789734, 'total_steps': 201, 'train_mean_token_accuracy': 0.9629629850387573}\n",
            "{'step': 172, 'train_loss': 0.1088392585515976, 'total_steps': 201, 'train_mean_token_accuracy': 0.9615384340286255}\n",
            "{'step': 171, 'train_loss': 0.03362236171960831, 'total_steps': 201, 'train_mean_token_accuracy': 0.9599999785423279}\n",
            "{'step': 170, 'train_loss': 0.030749615281820297, 'total_steps': 201, 'train_mean_token_accuracy': 1.0}\n",
            "{'step': 169, 'train_loss': 0.13831597566604614, 'total_steps': 201, 'train_mean_token_accuracy': 0.9259259104728699}\n",
            "{'step': 168, 'train_loss': 0.4334615468978882, 'total_steps': 201, 'train_mean_token_accuracy': 0.8399999737739563}\n",
            "{'step': 167, 'train_loss': 0.06661268323659897, 'total_steps': 201, 'train_mean_token_accuracy': 0.9615384340286255}\n",
            "{'step': 166, 'train_loss': 1.9779910871875472e-05, 'total_steps': 201, 'train_mean_token_accuracy': 1.0}\n",
            "{'step': 165, 'train_loss': 0.038702305406332016, 'total_steps': 201, 'train_mean_token_accuracy': 0.9615384340286255}\n",
            "{'step': 164, 'train_loss': 0.04315884783864021, 'total_steps': 201, 'train_mean_token_accuracy': 0.9629629850387573}\n",
            "{'step': 163, 'train_loss': 2.9881795853725635e-05, 'total_steps': 201, 'train_mean_token_accuracy': 1.0}\n",
            "{'step': 162, 'train_loss': 0.06674423068761826, 'total_steps': 201, 'train_mean_token_accuracy': 0.9599999785423279}\n",
            "{'step': 161, 'train_loss': 4.033689037896693e-05, 'total_steps': 201, 'train_mean_token_accuracy': 1.0}\n",
            "{'step': 160, 'train_loss': 0.03421429172158241, 'total_steps': 201, 'train_mean_token_accuracy': 0.9642857313156128}\n",
            "{'step': 159, 'train_loss': 0.060013312846422195, 'total_steps': 201, 'train_mean_token_accuracy': 0.9629629850387573}\n",
            "{'step': 158, 'train_loss': 0.36462533473968506, 'total_steps': 201, 'train_mean_token_accuracy': 0.9200000166893005}\n",
            "{'step': 157, 'train_loss': 7.565816486021504e-05, 'total_steps': 201, 'train_mean_token_accuracy': 1.0}\n",
            "{'step': 156, 'train_loss': 0.03655967861413956, 'total_steps': 201, 'train_mean_token_accuracy': 1.0}\n",
            "{'step': 155, 'train_loss': 0.08395235985517502, 'total_steps': 201, 'train_mean_token_accuracy': 0.9642857313156128}\n",
            "{'step': 154, 'train_loss': 0.03781121224164963, 'total_steps': 201, 'train_mean_token_accuracy': 0.9655172228813171}\n",
            "{'step': 153, 'train_loss': 0.03606187552213669, 'total_steps': 201, 'train_mean_token_accuracy': 0.9615384340286255}\n",
            "{'step': 152, 'train_loss': 0.09944082051515579, 'total_steps': 201, 'train_mean_token_accuracy': 0.9629629850387573}\n",
            "{'step': 151, 'train_loss': 0.034714508801698685, 'total_steps': 201, 'train_mean_token_accuracy': 0.9599999785423279}\n",
            "{'step': 150, 'train_loss': 0.030241012573242188, 'total_steps': 201, 'train_mean_token_accuracy': 1.0}\n",
            "{'step': 149, 'train_loss': 0.04838397726416588, 'total_steps': 201, 'train_mean_token_accuracy': 0.9655172228813171}\n",
            "{'step': 148, 'train_loss': 0.029120739549398422, 'total_steps': 201, 'train_mean_token_accuracy': 1.0}\n",
            "{'step': 147, 'train_loss': 0.0002928839821834117, 'total_steps': 201, 'train_mean_token_accuracy': 1.0}\n",
            "{'step': 146, 'train_loss': 0.0005794807802885771, 'total_steps': 201, 'train_mean_token_accuracy': 1.0}\n",
            "{'step': 145, 'train_loss': 0.03800519183278084, 'total_steps': 201, 'train_mean_token_accuracy': 0.9583333134651184}\n",
            "{'step': 144, 'train_loss': 0.12584832310676575, 'total_steps': 201, 'train_mean_token_accuracy': 0.9615384340286255}\n",
            "{'step': 143, 'train_loss': 0.030014190822839737, 'total_steps': 201, 'train_mean_token_accuracy': 1.0}\n",
            "{'step': 142, 'train_loss': 0.09318137913942337, 'total_steps': 201, 'train_mean_token_accuracy': 0.9599999785423279}\n",
            "{'step': 141, 'train_loss': 0.020153559744358063, 'total_steps': 201, 'train_mean_token_accuracy': 1.0}\n",
            "{'step': 140, 'train_loss': 0.16066819429397583, 'total_steps': 201, 'train_mean_token_accuracy': 0.9629629850387573}\n",
            "{'step': 139, 'train_loss': 0.08292798697948456, 'total_steps': 201, 'train_mean_token_accuracy': 0.9629629850387573}\n",
            "{'step': 138, 'train_loss': 0.035462599247694016, 'total_steps': 201, 'train_mean_token_accuracy': 1.0}\n",
            "{'step': 137, 'train_loss': 0.03462226316332817, 'total_steps': 201, 'train_mean_token_accuracy': 1.0}\n",
            "{'step': 136, 'train_loss': 0.032006531953811646, 'total_steps': 201, 'train_mean_token_accuracy': 1.0}\n",
            "{'step': 135, 'train_loss': 0.06055091693997383, 'total_steps': 201, 'train_mean_token_accuracy': 0.9599999785423279}\n",
            "{'step': 134, 'train_loss': 0.026370014995336533, 'total_steps': 201, 'train_mean_token_accuracy': 1.0}\n",
            "{'step': 133, 'train_loss': 0.0004184157878626138, 'total_steps': 201, 'train_mean_token_accuracy': 1.0}\n",
            "{'step': 132, 'train_loss': 0.07211670279502869, 'total_steps': 201, 'train_mean_token_accuracy': 0.9599999785423279}\n",
            "{'step': 131, 'train_loss': 0.07722414284944534, 'total_steps': 201, 'train_mean_token_accuracy': 0.9615384340286255}\n",
            "{'step': 130, 'train_loss': 0.13227491080760956, 'total_steps': 201, 'train_mean_token_accuracy': 0.9259259104728699}\n",
            "{'step': 129, 'train_loss': 0.2587743103504181, 'total_steps': 201, 'train_mean_token_accuracy': 0.9259259104728699}\n",
            "{'step': 128, 'train_loss': 0.12581275403499603, 'total_steps': 201, 'train_mean_token_accuracy': 0.9599999785423279}\n",
            "{'step': 127, 'train_loss': 0.2093612253665924, 'total_steps': 201, 'train_mean_token_accuracy': 0.8846153616905212}\n",
            "{'step': 126, 'train_loss': 0.1761443018913269, 'total_steps': 201, 'train_mean_token_accuracy': 0.9615384340286255}\n",
            "{'step': 125, 'train_loss': 0.07364507764577866, 'total_steps': 201, 'train_mean_token_accuracy': 0.9615384340286255}\n",
            "{'step': 124, 'train_loss': 0.14096634089946747, 'total_steps': 201, 'train_mean_token_accuracy': 0.9259259104728699}\n",
            "{'step': 123, 'train_loss': 0.10684889554977417, 'total_steps': 201, 'train_mean_token_accuracy': 0.9629629850387573}\n",
            "{'step': 122, 'train_loss': 0.17124043405056, 'total_steps': 201, 'train_mean_token_accuracy': 0.9615384340286255}\n",
            "{'step': 121, 'train_loss': 0.0788213312625885, 'total_steps': 201, 'train_mean_token_accuracy': 0.9599999785423279}\n",
            "{'step': 120, 'train_loss': 0.0008839501533657312, 'total_steps': 201, 'train_mean_token_accuracy': 1.0}\n",
            "{'step': 119, 'train_loss': 0.061488114297389984, 'total_steps': 201, 'train_mean_token_accuracy': 0.9599999785423279}\n",
            "{'step': 118, 'train_loss': 0.016142455860972404, 'total_steps': 201, 'train_mean_token_accuracy': 1.0}\n",
            "{'step': 117, 'train_loss': 0.12850874662399292, 'total_steps': 201, 'train_mean_token_accuracy': 0.9629629850387573}\n",
            "{'step': 116, 'train_loss': 0.057364579290151596, 'total_steps': 201, 'train_mean_token_accuracy': 0.9599999785423279}\n",
            "{'step': 115, 'train_loss': 0.20152167975902557, 'total_steps': 201, 'train_mean_token_accuracy': 0.9200000166893005}\n",
            "{'step': 114, 'train_loss': 0.09246356785297394, 'total_steps': 201, 'train_mean_token_accuracy': 0.9615384340286255}\n",
            "{'step': 113, 'train_loss': 0.09594795107841492, 'total_steps': 201, 'train_mean_token_accuracy': 0.9599999785423279}\n",
            "{'step': 112, 'train_loss': 0.07026361674070358, 'total_steps': 201, 'train_mean_token_accuracy': 0.9629629850387573}\n",
            "{'step': 111, 'train_loss': 0.6845681667327881, 'total_steps': 201, 'train_mean_token_accuracy': 0.8399999737739563}\n",
            "{'step': 110, 'train_loss': 0.1473212093114853, 'total_steps': 201, 'train_mean_token_accuracy': 0.9629629850387573}\n",
            "{'step': 109, 'train_loss': 0.08518791198730469, 'total_steps': 201, 'train_mean_token_accuracy': 0.9599999785423279}\n",
            "{'step': 108, 'train_loss': 0.010990829207003117, 'total_steps': 201, 'train_mean_token_accuracy': 1.0}\n",
            "{'step': 107, 'train_loss': 0.009690871462225914, 'total_steps': 201, 'train_mean_token_accuracy': 1.0}\n",
            "{'step': 106, 'train_loss': 0.26980626583099365, 'total_steps': 201, 'train_mean_token_accuracy': 0.9615384340286255}\n"
          ]
        }
      ]
    },
    {
      "cell_type": "markdown",
      "source": [
        "Store the 'step' and 'train_loss' in a list"
      ],
      "metadata": {
        "id": "YyQl2qI8mAW4"
      }
    },
    {
      "cell_type": "code",
      "source": [
        "steps = []\n",
        "train_loss = []\n",
        "\n",
        "for event in events:\n",
        "  if event.data:\n",
        "    steps.append(event.data['step'])\n",
        "    train_loss.append(event.data['train_loss'])\n",
        "\n",
        "print(steps)\n",
        "print(train_loss)"
      ],
      "metadata": {
        "id": "ZQBwbvdxl7ms",
        "colab": {
          "base_uri": "https://localhost:8080/"
        },
        "outputId": "4dfecad6-55eb-46d0-84f5-6d01c5010060"
      },
      "execution_count": 14,
      "outputs": [
        {
          "output_type": "stream",
          "name": "stdout",
          "text": [
            "[201, 200, 199, 198, 197, 196, 195, 194, 193, 192, 191, 190, 189, 188, 187, 186, 185, 184, 183, 182, 181, 180, 179, 178, 177, 176, 175, 174, 173, 172, 171, 170, 169, 168, 167, 166, 165, 164, 163, 162, 161, 160, 159, 158, 157, 156, 155, 154, 153, 152, 151, 150, 149, 148, 147, 146, 145, 144, 143, 142, 141, 140, 139, 138, 137, 136, 135, 134, 133, 132, 131, 130, 129, 128, 127, 126, 125, 124, 123, 122, 121, 120, 119, 118, 117, 116, 115, 114, 113, 112, 111, 110, 109, 108, 107, 106]\n",
            "[0.0383928082883358, 0.13929465413093567, 0.021748732775449753, 0.12803928554058075, 0.041477661579847336, 0.04347191005945206, 0.07302263379096985, 0.020565491169691086, 0.029163291677832603, 0.04581430181860924, 5.1569054448918905e-06, 0.047587890177965164, 0.11155451089143753, 0.030781541019678116, 0.028768004849553108, 0.023938242346048355, 0.016489101573824883, 6.075258625060087e-06, 0.07979018986225128, 0.00018169262330047786, 0.10148490965366364, 0.2248864322900772, 0.4085005223751068, 0.06401266902685165, 0.057107631117105484, 0.10723085701465607, 0.06689026206731796, 0.17285452783107758, 0.11532995104789734, 0.1088392585515976, 0.03362236171960831, 0.030749615281820297, 0.13831597566604614, 0.4334615468978882, 0.06661268323659897, 1.9779910871875472e-05, 0.038702305406332016, 0.04315884783864021, 2.9881795853725635e-05, 0.06674423068761826, 4.033689037896693e-05, 0.03421429172158241, 0.060013312846422195, 0.36462533473968506, 7.565816486021504e-05, 0.03655967861413956, 0.08395235985517502, 0.03781121224164963, 0.03606187552213669, 0.09944082051515579, 0.034714508801698685, 0.030241012573242188, 0.04838397726416588, 0.029120739549398422, 0.0002928839821834117, 0.0005794807802885771, 0.03800519183278084, 0.12584832310676575, 0.030014190822839737, 0.09318137913942337, 0.020153559744358063, 0.16066819429397583, 0.08292798697948456, 0.035462599247694016, 0.03462226316332817, 0.032006531953811646, 0.06055091693997383, 0.026370014995336533, 0.0004184157878626138, 0.07211670279502869, 0.07722414284944534, 0.13227491080760956, 0.2587743103504181, 0.12581275403499603, 0.2093612253665924, 0.1761443018913269, 0.07364507764577866, 0.14096634089946747, 0.10684889554977417, 0.17124043405056, 0.0788213312625885, 0.0008839501533657312, 0.061488114297389984, 0.016142455860972404, 0.12850874662399292, 0.057364579290151596, 0.20152167975902557, 0.09246356785297394, 0.09594795107841492, 0.07026361674070358, 0.6845681667327881, 0.1473212093114853, 0.08518791198730469, 0.010990829207003117, 0.009690871462225914, 0.26980626583099365]\n"
          ]
        }
      ]
    },
    {
      "cell_type": "markdown",
      "source": [
        "Visualize a line chart for training loss for every step"
      ],
      "metadata": {
        "id": "ZtkE9yDTmiZc"
      }
    },
    {
      "cell_type": "code",
      "source": [
        "plt.plot(steps, train_loss, marker = 'o', linestyle = '--')"
      ],
      "metadata": {
        "id": "Uuu77BvDmeNX",
        "colab": {
          "base_uri": "https://localhost:8080/",
          "height": 447
        },
        "outputId": "7a0cae61-4c4d-4a14-e9f0-ae0b3741f74d"
      },
      "execution_count": 15,
      "outputs": [
        {
          "output_type": "execute_result",
          "data": {
            "text/plain": [
              "[<matplotlib.lines.Line2D at 0x781de0c529b0>]"
            ]
          },
          "metadata": {},
          "execution_count": 15
        },
        {
          "output_type": "display_data",
          "data": {
            "text/plain": [
              "<Figure size 640x480 with 1 Axes>"
            ],
            "image/png": "[encoded data removed]"
          },
          "metadata": {}
        }
      ]
    },
    {
      "cell_type": "markdown",
      "source": [
        "# Deploying the model"
      ],
      "metadata": {
        "id": "qtnhDyqpmrS1"
      }
    },
    {
      "cell_type": "code",
      "source": [
        "llm_updated = retrieved_job.fine_tuned_model\n",
        "print(llm_updated)"
      ],
      "metadata": {
        "id": "ojTjltDYmq4X",
        "colab": {
          "base_uri": "https://localhost:8080/"
        },
        "outputId": "22235940-ea57-4d3d-ff34-f06a4e9af8ea"
      },
      "execution_count": 16,
      "outputs": [
        {
          "output_type": "stream",
          "name": "stdout",
          "text": [
            "ft:gpt-3.5-turbo-0125:personal::9sTR2OdS\n"
          ]
        }
      ]
    },
    {
      "cell_type": "markdown",
      "source": [
        "Extract the information from a user complaint by using our new updated LLM by defining a method which will return the results"
      ],
      "metadata": {
        "id": "rquxnVIWtdIk"
      }
    },
    {
      "cell_type": "code",
      "source": [
        "def extract_details(user_complaint, model_name):\n",
        "    \"\"\"\n",
        "    Function will return data in JSON (dict) format by extracting information from a user complaint using our updated specific LLM:\n",
        "\n",
        "    Parameters:\n",
        "    user_complaint (str): User's complaint.\n",
        "    model_name (str): Name of the specific LLM model used for info extraction.\n",
        "    \"\"\"\n",
        "\n",
        "    system_content = \"\"\"\n",
        "        Return the following information in JSON (dict) format:\n",
        "        - Topic\n",
        "        - Problem\n",
        "        - Customer_Dissatisfaction_Index\n",
        "    \"\"\"\n",
        "\n",
        "    # Generate a response using the specified model and the user's complaint\n",
        "    response = client.chat.completions.create(\n",
        "        model = model_name,\n",
        "        messages=[\n",
        "            {\"role\": \"system\", \"content\": system_content},  # System content explaining the expected output\n",
        "            {\"role\": \"user\", \"content\": user_complaint}  # User's complaint passed as content\n",
        "        ]\n",
        "    )\n",
        "\n",
        "    # Return the response generated by the updated specific LLM model\n",
        "    return response.choices[0].message.content"
      ],
      "metadata": {
        "id": "0u0PWf9ut8Nu"
      },
      "execution_count": 17,
      "outputs": []
    },
    {
      "cell_type": "markdown",
      "source": [
        "Let us now use the updated fine tuned LLM to observe the results"
      ],
      "metadata": {
        "id": "f0Uv6Q6jwchJ"
      }
    },
    {
      "cell_type": "code",
      "source": [
        "complaint = \"Extra fees added to my bill! What's going on? Extremely annoyed with this service!\"\n",
        "extract_details(complaint, llm_updated)"
      ],
      "metadata": {
        "id": "sqYxSC3VwFbc",
        "colab": {
          "base_uri": "https://localhost:8080/",
          "height": 36
        },
        "outputId": "b771ff5d-97ef-4708-ee20-b548e70b044a"
      },
      "execution_count": 18,
      "outputs": [
        {
          "output_type": "execute_result",
          "data": {
            "text/plain": [
              "'{\"Topic\": \"Billing\", \"Problem\": \"Extra fees added to bill\", \"Customer_Dissatisfaction_Index\": 10}'"
            ],
            "application/vnd.google.colaboratory.intrinsic+json": {
              "type": "string"
            }
          },
          "metadata": {},
          "execution_count": 18
        }
      ]
    },
    {
      "cell_type": "markdown",
      "source": [
        "Assess the GPT-4 model for the same complaint"
      ],
      "metadata": {
        "id": "pTZPp_zxz1mi"
      }
    },
    {
      "cell_type": "code",
      "source": [
        "extract_details(complaint, 'gpt-4')"
      ],
      "metadata": {
        "id": "sR6m4589ztf3",
        "colab": {
          "base_uri": "https://localhost:8080/",
          "height": 36
        },
        "outputId": "cb946455-432a-4707-fa41-20f4ac2ac89b"
      },
      "execution_count": 19,
      "outputs": [
        {
          "output_type": "execute_result",
          "data": {
            "text/plain": [
              "'{\\n  \"Topic\": \"Billing\",\\n  \"Problem\": \"Unexpected extra fees added to bill\",\\n  \"Customer_Dissatisfaction_Index\": 8\\n}'"
            ],
            "application/vnd.google.colaboratory.intrinsic+json": {
              "type": "string"
            }
          },
          "metadata": {},
          "execution_count": 19
        }
      ]
    },
    {
      "cell_type": "markdown",
      "source": [
        "Let's try a different complaint"
      ],
      "metadata": {
        "id": "o7q2_yeg0dnm"
      }
    },
    {
      "cell_type": "code",
      "source": [
        "complaint = \"Service and recption is completely terrible! Total waste of money!\"\n",
        "extract_details(complaint, llm_updated)"
      ],
      "metadata": {
        "id": "BSsq6h380dK8",
        "colab": {
          "base_uri": "https://localhost:8080/",
          "height": 36
        },
        "outputId": "19b6f0a3-0183-491b-c49b-f3fd5b9e2bb0"
      },
      "execution_count": 20,
      "outputs": [
        {
          "output_type": "execute_result",
          "data": {
            "text/plain": [
              "'{\"Topic\": \"Customer Service\", \"Problem\": \"Terrible service and reception\", \"Customer_Dissatisfaction_Index\": 90}'"
            ],
            "application/vnd.google.colaboratory.intrinsic+json": {
              "type": "string"
            }
          },
          "metadata": {},
          "execution_count": 20
        }
      ]
    },
    {
      "cell_type": "markdown",
      "source": [
        "Assess the GPT-4 model for the same complaint"
      ],
      "metadata": {
        "id": "NY-xO-uf02Nr"
      }
    },
    {
      "cell_type": "code",
      "source": [
        "extract_details(complaint, 'gpt-4')"
      ],
      "metadata": {
        "id": "ybLBsgQF04H1",
        "colab": {
          "base_uri": "https://localhost:8080/",
          "height": 53
        },
        "outputId": "ad033592-5a60-4062-b5ce-16eecec1ecfe"
      },
      "execution_count": 21,
      "outputs": [
        {
          "output_type": "execute_result",
          "data": {
            "text/plain": [
              "'{\\n    \"Topic\": \"Service and Reception\",\\n    \"Problem\": \"Completely terrible service and reception, perceived as a waste of money\",\\n    \"Customer_Dissatisfaction_Index\": 10\\n}'"
            ],
            "application/vnd.google.colaboratory.intrinsic+json": {
              "type": "string"
            }
          },
          "metadata": {},
          "execution_count": 21
        }
      ]
    },
    {
      "cell_type": "markdown",
      "source": [
        "Another complaint:"
      ],
      "metadata": {
        "id": "27t8378a1ARO"
      }
    },
    {
      "cell_type": "code",
      "source": [
        "complaint = \"Parts of packages missing! Misleading marketing! Outraged!!\"\n",
        "extract_details(complaint, llm_updated)"
      ],
      "metadata": {
        "id": "M__2GMWN0_0s",
        "colab": {
          "base_uri": "https://localhost:8080/",
          "height": 36
        },
        "outputId": "093f2c23-9c43-4c07-c865-67391bee925f"
      },
      "execution_count": 22,
      "outputs": [
        {
          "output_type": "execute_result",
          "data": {
            "text/plain": [
              "'{\"Topic\": \"Misleading marketing\", \"Problem\": \"Parts of packages missing\", \"Customer_Dissatisfaction_Index\": 10}'"
            ],
            "application/vnd.google.colaboratory.intrinsic+json": {
              "type": "string"
            }
          },
          "metadata": {},
          "execution_count": 22
        }
      ]
    },
    {
      "cell_type": "markdown",
      "source": [
        "Assess the GPT-4 model for the above complaint"
      ],
      "metadata": {
        "id": "OhCos2oA0_jg"
      }
    },
    {
      "cell_type": "code",
      "source": [
        "extract_details(complaint, 'gpt-4')"
      ],
      "metadata": {
        "id": "vA8TCxkF1HQh",
        "colab": {
          "base_uri": "https://localhost:8080/",
          "height": 53
        },
        "outputId": "46b19f5c-a412-44f5-9486-d01b78cb11c6"
      },
      "execution_count": 23,
      "outputs": [
        {
          "output_type": "execute_result",
          "data": {
            "text/plain": [
              "'{\\n  \"Topic\": \"Package Delivery\",\\n  \"Problem\": \"Parts of packages missing and misleading marketing\",\\n  \"Customer_Dissatisfaction_Index\": \"High\"\\n}'"
            ],
            "application/vnd.google.colaboratory.intrinsic+json": {
              "type": "string"
            }
          },
          "metadata": {},
          "execution_count": 23
        }
      ]
    },
    {
      "cell_type": "markdown",
      "source": [
        "## Conclusion : Since our model is fine-tuned to the dataset, we can notice the difference in the results and can conclude that our fine-tuned model is generating better output."
      ],
      "metadata": {
        "id": "Q1nxUgHQ2AzK"
      }
    }
  ]
}